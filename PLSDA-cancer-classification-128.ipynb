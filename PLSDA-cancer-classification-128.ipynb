{
 "cells": [
  {
   "cell_type": "markdown",
   "metadata": {},
   "source": [
    "# PLSDA Cancer Classification on GBM Cell Lines"
   ]
  },
  {
   "cell_type": "markdown",
   "metadata": {},
   "source": [
    "### Import data from csv"
   ]
  },
  {
   "cell_type": "code",
   "execution_count": 19,
   "metadata": {},
   "outputs": [],
   "source": [
    "import numpy as np\n",
    "import csv\n",
    "import time\n",
    "import scipy\n",
    "from scipy import stats\n",
    "from sklearn.cross_decomposition import PLSRegression\n",
    "import matplotlib.pyplot as plt"
   ]
  },
  {
   "cell_type": "markdown",
   "metadata": {},
   "source": [
    "# PARSING DATA\n",
    "After performing preprocessing on our images, the input data for this program will be a '.csv' file. The following code parses the data in that file and stores it into two arrays. X will be the array that contains the pixel color values for all of the pixels in all 100 of our images. Y will be the array which lists the label (0) mes or (1) pro for each of the cell images. "
   ]
  },
  {
   "cell_type": "code",
   "execution_count": 20,
   "metadata": {},
   "outputs": [
    {
     "name": "stdout",
     "output_type": "stream",
     "text": [
      "[0 0 0 0 0 0 0 0 0 0 0 0 0 0 0 0 0 0 0 0 0 0 0 0 0 0 0 0 0 0 0 0 0 0 0 0 0\n",
      " 0 0 0 0 0 0 0 0 0 0 0 0 0 0 0 0 0 0 0 0 0 0 0 0 0 0 0 0 0 0 0 0 0 0 0 0 0\n",
      " 0 0 0 0 0 0 0 0 0 0 0 0 0 0 0 0 0 1 1 1 1 1 1 1 1 1 1 1 1 1 1 1 1 1 1 1 1\n",
      " 1 1 1 1 1 1 1 1 1 1 1 1 1 1 1 1 1 1 1 1 1 1 1 1 1 1 1 1 1 1 1 1 1 1 1 1 1\n",
      " 1 1 1 1 1 1 1 1 1 1 1 1 1 1 1 1 1 1 1 1 1 1 1 1 1 1 1 1 1 1 1 1 1 1]\n"
     ]
    }
   ],
   "source": [
    "# csv_filename = '/Users/chiara.mooney/Desktop/new_data.csv'\n",
    "csv_filename = '/Users/Ryan/Dropbox/Sharing/project data/128_data.csv'\n",
    "# csv_filename = 'D:/Ryan/Dropbox/Sharing/project data/128_data.csv'\n",
    "\n",
    "data = []\n",
    "\n",
    "with open(csv_filename, 'r') as f:\n",
    "    reader = csv.reader(f)\n",
    "    for row in reader:\n",
    "        data.append(row[1:])\n",
    "        \n",
    "data = np.array(data)\n",
    "\n",
    "X = data[:, 0:-1]\n",
    "Y = data[:, -1]\n",
    "X = X.astype(int)\n",
    "Y = Y.astype(int)\n",
    "\n",
    "print(Y)\n",
    "\n",
    "# normalize data\n",
    "x_zscore = scipy.stats.mstats.zscore(X, axis=0)\n",
    "Y_mean = np.mean(Y)\n",
    "Y_std = np.std(Y)\n",
    "y_zscore = scipy.stats.zscore(Y)"
   ]
  },
  {
   "cell_type": "code",
   "execution_count": 21,
   "metadata": {},
   "outputs": [
    {
     "name": "stdout",
     "output_type": "stream",
     "text": [
      "Inputs matrix size: (182, 16383)\n",
      "Outputs matrix size: (182,)\n",
      "\n",
      "\n",
      "\n",
      "Completed at: 1552266375.589492\n"
     ]
    }
   ],
   "source": [
    "# Print data shape\n",
    "print(\"Inputs matrix size: {}\".format(X.shape))\n",
    "print(\"Outputs matrix size: {}\".format(Y.shape))\n",
    "print(\"\\n\\n\")\n",
    "\n",
    "print(\"Completed at: {}\".format(time.time()))"
   ]
  },
  {
   "cell_type": "markdown",
   "metadata": {},
   "source": [
    "# EXAMINING DATA\n",
    "Let's take a look at the data we are working with. Based on our earlier results we have chosen to use 2 PCs. Let's build our scores and loadings plot so we can better examine our data set in connection to these principle components. "
   ]
  },
  {
   "cell_type": "code",
   "execution_count": 22,
   "metadata": {},
   "outputs": [
    {
     "data": {
      "text/plain": [
       "PLSRegression(copy=True, max_iter=500, n_components=2, scale=True, tol=1e-06)"
      ]
     },
     "execution_count": 22,
     "metadata": {},
     "output_type": "execute_result"
    }
   ],
   "source": [
    "plsda = PLSRegression(n_components=2)\n",
    "plsda.fit(x_zscore,y_zscore)"
   ]
  },
  {
   "cell_type": "code",
   "execution_count": 23,
   "metadata": {},
   "outputs": [
    {
     "data": {
      "image/png": "[encoded data removed]",
      "text/plain": [
       "<Figure size 504x504 with 1 Axes>"
      ]
     },
     "metadata": {
      "needs_background": "light"
     },
     "output_type": "display_data"
    }
   ],
   "source": [
    "scores_PC1 = plsda.x_scores_[:, 0]\n",
    "scores_PC2 = plsda.x_scores_[:, 1]\n",
    "\n",
    "num_inputs = X.shape[0]//2\n",
    "\n",
    "plt.figure(figsize =(7,7))\n",
    "plt.title(\"Scores Plot 128 x 128\")\n",
    "plt.scatter(scores_PC1[0:num_inputs - 1], scores_PC2[0:num_inputs - 1], c='tab:orange',marker='D', label=\"mes\")\n",
    "plt.scatter(scores_PC1[num_inputs:], scores_PC2[num_inputs:], c='tab:cyan',marker='D', label=\"pro\")\n",
    "plt.xlabel(\"PC1\")\n",
    "plt.ylabel(\"PC2\")\n",
    "plt.legend()\n",
    "plt.show()"
   ]
  },
  {
   "cell_type": "code",
   "execution_count": 24,
   "metadata": {},
   "outputs": [],
   "source": [
    "# x_loadings_PC1 = plsda.x_loadings_[:, 0]\n",
    "# x_loadings_PC2 = plsda.x_loadings_[:, 1] \n",
    "\n",
    "# y_loadings_PC1 = plsda.y_loadings_[:, 0]\n",
    "# y_loadings_PC2 = plsda.y_loadings_[:, 1] \n",
    "\n",
    "# y_weights_PC1  = plsda.y_weights_[:,0]\n",
    "# y_weights_PC2  = plsda.y_weights_[:,1]\n",
    "\n",
    "# # we are looking to plot w*c\n",
    "# # first lets find w*, where w* = w(p'w)^-1\n",
    "\n",
    "# wStar =(np.matmul(plsda.x_weights_, np.linalg.inv(np.matmul(plsda.x_loadings_.T, plsda.x_weights_))))\n",
    "\n",
    "# x_wStar_PC1  = wStar[:,0]\n",
    "# x_wStar_PC2  = wStar[:,1]\n",
    "\n",
    "# plt.figure(figsize=(4, 4), dpi=100)\n",
    "\n",
    "# # need to scale \n",
    "# plt.scatter(0.15*y_loadings_PC1,0.15*y_loadings_PC2, c='b', label = \"Response\") \n",
    "# plt.scatter(np.multiply(x_wStar_PC1, y_weights_PC1), np.multiply(x_wStar_PC2, y_weights_PC2), c='y', label=\"Signals\")\n",
    "# plt.legend()\n",
    "# plt.title(\"PC1 vs PC2 -- Loadings Plot\")\n",
    "# plt.xlabel(\"PC1\")\n",
    "# plt.ylabel(\"PC2\")"
   ]
  },
  {
   "cell_type": "markdown",
   "metadata": {},
   "source": [
    "# PERFORMING PLSDA\n",
    "Now that we have processed our csv file and correctly stored our oberservations into an array, we will begin to construct our model using PLSDA. After doing some research online we discovered a method for implementing PLSDA via PLSR. We will build a model using PLSR, where our yobs is an array of 0s (mesanchymal) or 1s (proneural). PLSR will make predictions which will result in continous values from 0 to 1. However, we need our data to be discrete so that we can correctly classify each image into a cell type. Thus, following PLSR we will need to threshold our ypred."
   ]
  },
  {
   "cell_type": "markdown",
   "metadata": {},
   "source": [
    "#### Calculation of R2X and R2Y\n",
    "This will be used to determin how many primary components to use"
   ]
  },
  {
   "cell_type": "code",
   "execution_count": 25,
   "metadata": {
    "scrolled": true
   },
   "outputs": [
    {
     "name": "stdout",
     "output_type": "stream",
     "text": [
      "91.3128947846 % of variation for y accounted for using 7 PCs.\n"
     ]
    },
    {
     "data": {
      "image/png": "[encoded data removed]",
      "text/plain": [
       "<Figure size 432x288 with 1 Axes>"
      ]
     },
     "metadata": {
      "needs_background": "light"
     },
     "output_type": "display_data"
    },
    {
     "name": "stdout",
     "output_type": "stream",
     "text": [
      "Completed at: 1552266384.170134\n"
     ]
    }
   ],
   "source": [
    "import scipy as sp, numpy as np\n",
    "import scipy.io as sio\n",
    "from sklearn.preprocessing import scale, StandardScaler\n",
    "from sklearn.cross_decomposition import PLSRegression\n",
    "from sklearn.model_selection import LeaveOneGroupOut, LeaveOneOut\n",
    "from sklearn.metrics import r2_score\n",
    "import matplotlib.pyplot as plt\n",
    "\n",
    "import scipy\n",
    "from scipy import stats\n",
    "\n",
    "\n",
    "\n",
    "X_R2_data = []\n",
    "Y_R2_data = []\n",
    "\n",
    "def make_params_R2 (scores, loadings, observed):\n",
    "    loadings_transpose = np.ndarray.transpose(loadings)\n",
    "    x_model = np.squeeze(np.dot(scores, loadings_transpose))\n",
    "    # when is squeeze necessary\n",
    "    return (R2(x_model, observed))\n",
    "\n",
    "def R2 (x_model, observed):\n",
    "    sum_sq_err = np.sum(np.square(np.squeeze(np.subtract(x_model, observed))))\n",
    "    sq_obs = np.sum(np.square(observed))\n",
    "    return 1 - (sum_sq_err/sq_obs)\n",
    "\n",
    "max_pcs = 20\n",
    "reach_90_x = False\n",
    "reach_90_y = False\n",
    "\n",
    "for i in range(max_pcs):\n",
    "    pls= PLSRegression(n_components=(i+1))\n",
    "    pls.fit(x_zscore,y_zscore)\n",
    "    new_R2_X = make_params_R2(pls.x_scores_, pls.x_loadings_, x_zscore)\n",
    "    X_R2_data.append(new_R2_X)\n",
    "    if (new_R2_X > 0.9) and not reach_90_x:\n",
    "        print((100*new_R2_X), \"% of variation for x accounted for using\",(i+1), \"PCs.\")\n",
    "        reach_90_x = True\n",
    "    \n",
    "    Y_model = np.squeeze(pls.predict(x_zscore))\n",
    "    new_R2_Y = R2(Y_model, y_zscore)\n",
    "    Y_R2_data.append(new_R2_Y)\n",
    "    if (new_R2_Y > 0.9) and not reach_90_y:\n",
    "        print((100*new_R2_Y), \"% of variation for y accounted for using\", (i+1), \"PCs.\")\n",
    "        reach_90_y = True\n",
    "\n",
    "#plt.figure(figsize =(1300,80), dpi=100)\n",
    "plt.title(\"Number of PCs vs. Variance Accounted For\")\n",
    "plt.scatter(np.arange(1,max_pcs+1), X_R2_data, label=\"x-variance\")\n",
    "plt.scatter(np.arange(1,max_pcs+1), Y_R2_data, label=\"y-variance\")\n",
    "plt.xlabel(\"Number of PCs\")\n",
    "plt.ylabel(\"Variance Accounted For\")\n",
    "plt.legend()\n",
    "plt.show()\n",
    "\n",
    "print(\"Completed at: {}\".format(time.time()))"
   ]
  },
  {
   "cell_type": "markdown",
   "metadata": {},
   "source": [
    "#### Leave One Out Cross Validation\n",
    "Perform LOO cross validation on our model to evaluate the predicted error of our model"
   ]
  },
  {
   "cell_type": "code",
   "execution_count": 26,
   "metadata": {},
   "outputs": [
    {
     "name": "stdout",
     "output_type": "stream",
     "text": [
      "Completed at: 1552266420.030656\n"
     ]
    }
   ],
   "source": [
    "# build model and run LOO cross validation\n",
    "num_of_comp = 6\n",
    "loo = LeaveOneOut()\n",
    "\n",
    "Y_raw_loo = []\n",
    "Y_test_loo = []\n",
    "pls_loo = PLSRegression(n_components=(num_of_comp))\n",
    "\n",
    "for train_index, test_index in loo.split(X, Y):\n",
    "    \n",
    "    pls_loo.fit_transform(X[train_index], Y[train_index])\n",
    "    pls_loo.transform(X[test_index])\n",
    "    new_y_pred = pls_loo.predict(X[test_index])\n",
    "    Y_raw_loo.append(np.squeeze(new_y_pred))\n",
    "    Y_test_loo.append((Y[test_index]))\n",
    "    \n",
    "print(\"Completed at: {}\".format(time.time()))"
   ]
  },
  {
   "cell_type": "code",
   "execution_count": 36,
   "metadata": {},
   "outputs": [
    {
     "name": "stdout",
     "output_type": "stream",
     "text": [
      "0.37221872151880236\n",
      "0.6357319580333082\n",
      "0.3898629003426119\n",
      "1.2542494146942262\n",
      "0.2323069087440432\n",
      "1.0549263537992697\n",
      "0.8417611500658523\n",
      "-0.665374902008624\n",
      "0.7935002105332916\n",
      "0.8409840483727926\n",
      "0.7248475475594867\n",
      "0.4565033676337418\n",
      "0.5070212636376318\n",
      "0.7448423086706908\n",
      "0.050231805573783594\n",
      "0.7439721614782746\n",
      "1.0127589602425877\n",
      "0.022878133645674648\n",
      "0.3497627321263512\n",
      "0.8377641565742119\n",
      "0.1709207420566553\n",
      "0.5182640270948906\n",
      "0.7566920883126254\n",
      "-0.6746717305477378\n",
      "0.4819262926264122\n",
      "0.5235796454197541\n",
      "0.22628643841401797\n",
      "0.5784871002976453\n",
      "0.16534969363522695\n",
      "-1.2554239031686016\n",
      "0.3709563937380598\n",
      "-1.1744244884209634\n",
      "1.0926602314405178\n",
      "0.47235497895761086\n",
      "1.0802970312586404\n",
      "0.9543022032031749\n",
      "-0.4689712628444307\n",
      "1.2226500913996623\n",
      "0.447799414081739\n",
      "0.7521208071449986\n",
      "0.09481281498785099\n",
      "0.2027860781158699\n",
      "0.7260593662767851\n",
      "0.7558262742063508\n",
      "0.4112483764007958\n",
      "-0.0010825104432076182\n",
      "0.3599839052140483\n",
      "0.07616379743630275\n",
      "0.9256375243859349\n",
      "1.0433539252597461\n",
      "0.7818545955179506\n",
      "0.5712755392326917\n",
      "0.75937831775608\n",
      "0.5599131296858522\n",
      "0.6785187521629701\n",
      "0.8637554020477514\n",
      "0.4827889117125076\n",
      "0.6943867169172802\n",
      "1.3403298845999967\n",
      "0.23238331997140071\n",
      "-0.7242445393787905\n",
      "0.03236977482861453\n",
      "0.6303305462490583\n",
      "1.0203755962656793\n",
      "0.00883145666163282\n",
      "0.8168305118515531\n",
      "0.8193233827789478\n",
      "0.02407633924994551\n",
      "0.7015274533335427\n",
      "1.3679587783380684\n",
      "-0.7523040539791551\n",
      "0.7091018090858108\n",
      "0.590594159652716\n",
      "-0.10051426139176411\n",
      "0.03827674080918397\n",
      "0.5042960923562947\n",
      "-0.8143754765398309\n",
      "0.6069767188821157\n",
      "0.4496082470255172\n",
      "0.9017711047598713\n",
      "-0.2655086885829525\n",
      "-0.5563117804357086\n",
      "-0.48382711224567043\n",
      "1.049281201978895\n",
      "-0.33523019314403824\n",
      "0.4516465541250209\n",
      "0.05544659270415653\n",
      "0.715883090324573\n",
      "-1.318997087507853\n",
      "0.621714455100766\n",
      "0.8844217572322437\n",
      "0.6854746717143936\n",
      "0.9068450899701415\n",
      "1.3951325060376791\n",
      "1.0808283651300432\n",
      "0.7920310860188946\n",
      "0.6311612857527434\n",
      "0.5085738177396897\n",
      "0.47628072797540505\n",
      "0.8611217942231895\n",
      "0.6233753099348467\n",
      "0.4682225368600141\n",
      "0.9060510889737607\n",
      "0.5292768754275884\n",
      "1.2070012241226153\n",
      "1.0263045631235026\n",
      "1.458402269149281\n",
      "0.6070508180714729\n",
      "0.8030390005883945\n",
      "0.6446721831259223\n",
      "0.9524793354149674\n",
      "0.93910635615766\n",
      "0.7646143105636339\n",
      "0.8100014898118051\n",
      "1.0089828828152712\n",
      "0.7057317391232628\n",
      "1.0833875598517675\n",
      "0.8785266101931071\n",
      "0.29725490778186814\n",
      "0.6405235988597178\n",
      "0.7921853143682086\n",
      "0.9177072530738346\n",
      "0.719937381101158\n",
      "0.4786398143717429\n",
      "0.3292054868602504\n",
      "0.5029634416595415\n",
      "0.41803579297529897\n",
      "0.9697876958754239\n",
      "0.5114876654709933\n",
      "0.15624005321516388\n",
      "0.9224409577229425\n",
      "0.6585881044736075\n",
      "0.717568085030837\n",
      "0.7768166548747819\n",
      "0.7445287108828709\n",
      "0.4004361417515184\n",
      "0.5895955538361848\n",
      "0.5667058837955818\n",
      "-0.04507833655669663\n",
      "0.376671294705344\n",
      "0.17300390050916176\n",
      "0.24016254441656332\n",
      "0.8371981508996396\n",
      "0.6879512058234046\n",
      "0.5458836082194332\n",
      "0.42723910714860697\n",
      "0.6633224472727626\n",
      "0.8774087101070891\n",
      "0.9392406464351959\n",
      "0.5314499818510093\n",
      "0.7364149064214991\n",
      "0.3542920182363106\n",
      "1.1352167879126038\n",
      "0.6533834443356965\n",
      "0.7220030988027967\n",
      "1.118541629931652\n",
      "0.08480427900360255\n",
      "0.4113051337064946\n",
      "0.7513492827854971\n",
      "0.792087287381115\n",
      "0.9144121884036944\n",
      "0.5011101644254466\n",
      "1.0208438705847858\n",
      "0.4490200049459092\n",
      "0.3602644540501759\n",
      "0.534531296762141\n",
      "0.685304670252053\n",
      "0.4174600257848857\n",
      "0.5928051140994948\n",
      "0.9742531319046281\n",
      "0.5244871423557746\n",
      "0.566811471278072\n",
      "0.438292605895782\n",
      "0.7656907443591761\n",
      "1.1283371652334826\n",
      "0.7555615476121931\n",
      "0.6885678991809407\n",
      "0.5988019510088308\n",
      "0.6322289757578311\n",
      "0.7106824698213388\n",
      "0.7971411196333398\n",
      "0.6342131472890497\n",
      "LOO Cross Validation Results [128 CASE]:\n",
      "mes cells correctly predicted:  47\n",
      "mes cells incorrecly predicted:  28\n",
      "pro cells correctly predicted:  63\n",
      "pro cells incorrectly predicted:  44\n"
     ]
    }
   ],
   "source": [
    "# threshold our results to parse our data into two categories: (0) mes and (1) pro\n",
    "Y_predict_loo = []\n",
    "num_inputs = X.shape[0]\n",
    "\n",
    "raw_pred_mean = np.mean(Y_raw_loo)\n",
    "\n",
    "for i in range(num_inputs):\n",
    "    print(Y_raw_loo[i])\n",
    "    if Y_raw_loo[i] >= raw_pred_mean:\n",
    "        Y_predict_loo.append(np.squeeze(1))\n",
    "    else:\n",
    "        Y_predict_loo.append(np.squeeze(0))\n",
    "    \n",
    "np.squeeze(Y_predict_loo)\n",
    "np.squeeze(Y_test_loo)\n",
    "\n",
    "# count number of correct predictions made by our model\n",
    "mes_correct = 0\n",
    "mes_false_pos = 0\n",
    "pro_false_pos = 0\n",
    "pro_correct = 0\n",
    "for i in range(num_inputs):\n",
    "    if (Y_predict_loo[i] == Y_test_loo[i]):\n",
    "        if Y_predict_loo[i] == 0:\n",
    "            mes_correct += 1\n",
    "        else:\n",
    "            pro_correct += 1\n",
    "    elif (Y_predict_loo[i] != Y_test_loo[i]):\n",
    "        if Y_predict_loo[i] == 0:\n",
    "            mes_false_pos += 1\n",
    "        else:\n",
    "            pro_false_pos += 1\n",
    "print(\"LOO Cross Validation Results [128 CASE]:\")\n",
    "print(\"mes cells correctly predicted: \", mes_correct)\n",
    "print(\"mes cells incorrecly predicted: \", mes_false_pos)\n",
    "print(\"pro cells correctly predicted: \", pro_correct)\n",
    "print(\"pro cells incorrectly predicted: \", pro_false_pos)"
   ]
  },
  {
   "cell_type": "markdown",
   "metadata": {},
   "source": [
    "#### K-Fold Crossvalidation\n",
    "Run K-fold with 5-10 observations held out to compare with performance of LOOCV"
   ]
  },
  {
   "cell_type": "code",
   "execution_count": 28,
   "metadata": {},
   "outputs": [],
   "source": [
    "num_of_comp = 6\n",
    "logo = LeaveOneGroupOut()\n",
    "\n",
    "group_size = 8\n",
    "groups = []\n",
    "for i in range(X.shape[0]):\n",
    "    groups.append(i % group_size)\n",
    "groups = np.array(groups)\n",
    "\n",
    "X = np.array(X)\n",
    "Y = np.array(Y)\n",
    "X = X.astype(float)\n",
    "\n",
    "Y_raw_preds = []\n",
    "Y_test_logo = []\n",
    "pls_logo = PLSRegression(n_components=(num_of_comp))\n",
    "\n",
    "for train_index, test_index in logo.split(X, groups=groups):\n",
    "    X_train = X[train_index]\n",
    "    Y_train = Y[train_index]\n",
    "    \n",
    "    # Scale\n",
    "    scaler = StandardScaler()\n",
    "    X_train_zs = scaler.fit_transform(X_train)\n",
    "    X_test_zs = scaler.transform(X[test_index])\n",
    "    \n",
    "    # Fit model\n",
    "    pls_logo.fit(X_train_zs, Y_train)\n",
    "    Y_test_pred = pls_logo.predict(X_test_zs)\n",
    "    Y_raw_preds.append(np.squeeze(np.array(Y_test_pred)))\n",
    "    Y_test_logo.append(Y[test_index])\n",
    "    \n",
    "    # Log\n",
    "    # print(np.squeeze(np.array(Y_test_pred)))\n",
    "    # print(Y[test_index])\n",
    "\n",
    "\n"
   ]
  },
  {
   "cell_type": "code",
   "execution_count": 29,
   "metadata": {},
   "outputs": [
    {
     "name": "stdout",
     "output_type": "stream",
     "text": [
      "(182,)\n",
      "(182,)\n",
      "Completed at: 1552266421.934921\n"
     ]
    }
   ],
   "source": [
    "# Manually flatten\n",
    "Y_test_logo_flat = []\n",
    "for i in range(len(Y_test_logo)):\n",
    "    for j in range(len(Y_test_logo[i])):\n",
    "        Y_test_logo_flat.append(Y_test_logo[i][j])\n",
    "        \n",
    "Y_raw_preds_flat = []\n",
    "for i in range(len(Y_raw_preds)):\n",
    "    for j in range(len(Y_raw_preds[i])):\n",
    "        Y_raw_preds_flat.append(Y_raw_preds[i][j])\n",
    "        \n",
    "Y_test_logo_flat = np.array(Y_test_logo_flat)\n",
    "Y_raw_preds_flat = np.array(Y_raw_preds_flat)\n",
    "\n",
    "print(Y_raw_preds_flat.shape)\n",
    "print(Y_test_logo_flat.shape)\n",
    "print(\"Completed at: {}\".format(time.time()))"
   ]
  },
  {
   "cell_type": "code",
   "execution_count": 30,
   "metadata": {},
   "outputs": [
    {
     "name": "stdout",
     "output_type": "stream",
     "text": [
      "[0, 1, 1, 0, 1, 0, 1, 1, 0, 0, 0, 0, 1, 1, 1, 1, 1, 0, 1, 1, 1, 1, 1, 1, 1, 0, 1, 1, 1, 1, 1, 1, 0, 0, 1, 1, 1, 0, 1, 0, 1, 0, 1, 0, 1, 1, 1, 1, 0, 0, 1, 1, 1, 1, 1, 0, 0, 1, 0, 1, 1, 1, 1, 0, 1, 1, 1, 1, 1, 1, 1, 1, 0, 1, 1, 1, 1, 0, 0, 1, 1, 1, 1, 1, 1, 1, 0, 1, 1, 1, 1, 1, 0, 0, 0, 0, 0, 0, 1, 0, 1, 0, 0, 1, 1, 1, 1, 0, 1, 0, 1, 0, 0, 0, 1, 1, 1, 1, 0, 1, 0, 1, 0, 1, 1, 1, 1, 1, 1, 1, 1, 1, 0, 1, 0, 1, 1, 1, 1, 0, 1, 0, 1, 0, 1, 1, 0, 1, 0, 1, 1, 1, 0, 1, 1, 1, 1, 1, 1, 1, 0, 1, 0, 0, 1, 0, 1, 1, 1, 1, 0, 1, 1, 1, 1, 1, 0, 1, 0, 1, 1, 1]\n",
      "[0 0 0 0 0 0 0 0 0 0 0 0 1 1 1 1 1 1 1 1 1 1 1 0 0 0 0 0 0 0 0 0 0 0 0 1 1\n",
      " 1 1 1 1 1 1 1 1 1 0 0 0 0 0 0 0 0 0 0 0 0 1 1 1 1 1 1 1 1 1 1 1 0 0 0 0 0\n",
      " 0 0 0 0 0 0 1 1 1 1 1 1 1 1 1 1 1 1 0 0 0 0 0 0 0 0 0 0 0 1 1 1 1 1 1 1 1\n",
      " 1 1 1 1 0 0 0 0 0 0 0 0 0 0 0 1 1 1 1 1 1 1 1 1 1 1 1 0 0 0 0 0 0 0 0 0 0\n",
      " 0 1 1 1 1 1 1 1 1 1 1 1 0 0 0 0 0 0 0 0 0 0 0 1 1 1 1 1 1 1 1 1 1 1]\n",
      "8-Fold Crossvalidation Results [128 CASE]:\n",
      "mes cells correctly predicted:  38\n",
      "mes cells incorrecly predicted:  17\n",
      "pro cells correctly predicted:  74\n",
      "pro cells incorrectly predicted:  53\n",
      "Completed at: 1552266421.957189\n"
     ]
    }
   ],
   "source": [
    "Y_class_preds = []\n",
    "num_inputs = X.shape[0]\n",
    "\n",
    "for i in range(num_inputs):\n",
    "    if Y_raw_preds_flat[i] >= 0.45:\n",
    "        Y_class_preds.append(1)\n",
    "    else:\n",
    "        Y_class_preds.append(0)\n",
    "\n",
    "print(Y_class_preds)   \n",
    "print(Y_test_logo_flat)   \n",
    "\n",
    "mes_correct = 0\n",
    "mes_false_pos = 0\n",
    "pro_false_pos = 0\n",
    "pro_correct = 0\n",
    "for i in range(num_inputs):\n",
    "    if (Y_predict_loo[i] == Y_test_loo[i]):\n",
    "        if Y_predict_loo[i] == 0:\n",
    "            mes_correct += 1\n",
    "        else:\n",
    "            pro_correct += 1\n",
    "    elif (Y_predict_loo[i] != Y_test_loo[i]):\n",
    "        if Y_predict_loo[i] == 0:\n",
    "            mes_false_pos += 1\n",
    "        else:\n",
    "            pro_false_pos += 1\n",
    "\n",
    "\n",
    "\n",
    "print(\"{}-Fold Crossvalidation Results [128 CASE]:\".format(group_size))\n",
    "print(\"mes cells correctly predicted: \", mes_correct)\n",
    "print(\"mes cells incorrecly predicted: \", mes_false_pos)\n",
    "print(\"pro cells correctly predicted: \", pro_correct)\n",
    "print(\"pro cells incorrectly predicted: \", pro_false_pos)\n",
    "\n",
    "\n",
    "print(\"Completed at: {}\".format(time.time()))"
   ]
  },
  {
   "cell_type": "markdown",
   "metadata": {},
   "source": [
    "#### Random Model Control\n",
    "Build set of predictions made by the random choice of 0 or 1. Use the accuracy of this model to serve as a baseline for our PLSDA model. If our PLSDA model does better than random, we have a success."
   ]
  },
  {
   "cell_type": "code",
   "execution_count": 31,
   "metadata": {},
   "outputs": [
    {
     "name": "stdout",
     "output_type": "stream",
     "text": [
      "Random Prediction Results: \n",
      "mes cells correctly predicted:  45\n",
      "mes cells incorrecly predicted:  46\n",
      "pro cells correctly predicted:  45\n",
      "pro cells incorrectly predicted:  46\n"
     ]
    }
   ],
   "source": [
    "# build data set of random values from [0,1]\n",
    "Y_random = []\n",
    "num_inputs = X.shape[0]\n",
    "\n",
    "\n",
    "for i in range(num_inputs):\n",
    "    Y_random.append(np.random.randint(0,2))\n",
    "Y_random = np.array(Y_random)\n",
    "\n",
    "mes_correct = 0\n",
    "mes_false_pos = 0\n",
    "pro_false_pos = 0\n",
    "pro_correct = 0\n",
    "\n",
    "# evaluate success of random prediction\n",
    "for i in range(num_inputs):\n",
    "    if (Y_random[i] == Y[i]):\n",
    "        if Y_random[i] == 0:\n",
    "            mes_correct += 1\n",
    "        else:\n",
    "            pro_correct += 1\n",
    "    elif (Y_random[i] != Y[i]):\n",
    "        if Y_random[i] == 0:\n",
    "            mes_false_pos += 1\n",
    "        else:\n",
    "            pro_false_pos += 1\n",
    "            \n",
    "print(\"Random Prediction Results: \")\n",
    "print(\"mes cells correctly predicted: \", mes_correct)\n",
    "print(\"mes cells incorrecly predicted: \", mes_false_pos)\n",
    "print(\"pro cells correctly predicted: \", pro_correct)\n",
    "print(\"pro cells incorrectly predicted: \", pro_false_pos)\n"
   ]
  },
  {
   "cell_type": "code",
   "execution_count": null,
   "metadata": {},
   "outputs": [],
   "source": []
  }
 ],
 "metadata": {
  "kernelspec": {
   "display_name": "Python 3",
   "language": "python",
   "name": "python3"
  },
  "language_info": {
   "codemirror_mode": {
    "name": "ipython",
    "version": 3
   },
   "file_extension": ".py",
   "mimetype": "text/x-python",
   "name": "python",
   "nbconvert_exporter": "python",
   "pygments_lexer": "ipython3",
   "version": "3.6.5"
  }
 },
 "nbformat": 4,
 "nbformat_minor": 2
}
