{
 "cells": [
  {
   "cell_type": "markdown",
   "metadata": {},
   "source": [
    "# PLSDA Cancer Classification on GBM Cell Lines"
   ]
  },
  {
   "cell_type": "markdown",
   "metadata": {},
   "source": [
    "### Import data from csv"
   ]
  },
  {
   "cell_type": "code",
   "execution_count": 13,
   "metadata": {},
   "outputs": [],
   "source": [
    "import numpy as np\n",
    "import csv\n",
    "import time\n",
    "import scipy\n",
    "from scipy import stats\n",
    "from sklearn.cross_decomposition import PLSRegression\n",
    "import matplotlib.pyplot as plt"
   ]
  },
  {
   "cell_type": "markdown",
   "metadata": {},
   "source": [
    "# PARSING DATA\n",
    "After performing preprocessing on our images, the input data for this program will be a '.csv' file. The following code parses the data in that file and stores it into two arrays. X will be the array that contains the pixel color values for all of the pixels in all 100 of our images. Y will be the array which lists the label (0) mes or (1) pro for each of the cell images. "
   ]
  },
  {
   "cell_type": "code",
   "execution_count": 52,
   "metadata": {},
   "outputs": [
    {
     "name": "stdout",
     "output_type": "stream",
     "text": [
      "[  9  31  31   4   0   0  43   0   0   0   0   3 101   0  45   0  62  44\n",
      "   0   0   0   0   0 124  47   0  59   0   0   0  30   0   0   2  41   1\n",
      "  73   0   0  31   0   0   1   2   0   0   0  24   0   2   0  13   1   0\n",
      "   0   1   0   2   2   0   0   0  14  27   0   4  99   0   0   3   0   1\n",
      "   0   1   0   3   0   0   1   2  24   0   1   4   0   0   0   0  62   0\n",
      "   0   0   0   1   0   0   0   0   0   0   1   0   0   0  16   0   0   0\n",
      "   1  47   1   1   0   2   0   0  15  89   0   0   0   1   1   0  26   2\n",
      "   0   0   1   0   0   0   0   6  12   0   7  71   0   0   0   0   0   0\n",
      "   0   1   4   0  56   1   0   0   0   0   0   2   0   3   0  19   0   2\n",
      "   3   0  13   0  21   0   0   0   0  28   0   0  28   0   8   0   0   1\n",
      "   0   0]\n"
     ]
    }
   ],
   "source": [
    "# csv_filename = '/Users/chiara.mooney/Desktop/new_data.csv'\n",
    "# csv_filename = '/Users/Ryan/Dropbox/Sharing/project data/data.csv'\n",
    "csv_filename = 'D:/Ryan/Dropbox/Sharing/project data/128_data.csv'\n",
    "\n",
    "data = []\n",
    "\n",
    "with open(csv_filename, 'r') as f:\n",
    "    reader = csv.reader(f)\n",
    "    for row in reader:\n",
    "        data.append(row[1:])\n",
    "        \n",
    "data = np.array(data)\n",
    "\n",
    "X = data[:, 0:-1]\n",
    "Y = data[:, -1]\n",
    "X = X.astype(int)\n",
    "Y = Y.astype(int)\n",
    "\n",
    "print(Y)\n",
    "\n",
    "# normalize data\n",
    "x_zscore = scipy.stats.mstats.zscore(X, axis=0)\n",
    "Y_mean = np.mean(Y)\n",
    "Y_std = np.std(Y)\n",
    "y_zscore = scipy.stats.zscore(Y)"
   ]
  },
  {
   "cell_type": "code",
   "execution_count": 16,
   "metadata": {},
   "outputs": [
    {
     "name": "stdout",
     "output_type": "stream",
     "text": [
      "Inputs matrix size: (182, 16382)\n",
      "Outputs matrix size: (182,)\n",
      "\n",
      "\n",
      "\n",
      "Completed at: 1552262350.7536378\n"
     ]
    }
   ],
   "source": [
    "# Print data shape\n",
    "print(\"Inputs matrix size: {}\".format(X.shape))\n",
    "print(\"Outputs matrix size: {}\".format(Y.shape))\n",
    "print(\"\\n\\n\")\n",
    "\n",
    "print(\"Completed at: {}\".format(time.time()))"
   ]
  },
  {
   "cell_type": "markdown",
   "metadata": {},
   "source": [
    "# EXAMINING DATA\n",
    "Let's take a look at the data we are working with. Based on our earlier results we have chosen to use 2 PCs. Let's build our scores and loadings plot so we can better examine our data set in connection to these principle components. "
   ]
  },
  {
   "cell_type": "code",
   "execution_count": 17,
   "metadata": {},
   "outputs": [
    {
     "data": {
      "text/plain": [
       "PLSRegression(copy=True, max_iter=500, n_components=2, scale=True, tol=1e-06)"
      ]
     },
     "execution_count": 17,
     "metadata": {},
     "output_type": "execute_result"
    }
   ],
   "source": [
    "plsda = PLSRegression(n_components=2)\n",
    "plsda.fit(x_zscore,y_zscore)"
   ]
  },
  {
   "cell_type": "code",
   "execution_count": 35,
   "metadata": {},
   "outputs": [
    {
     "data": {
      "image/png": "[encoded data removed]",
      "text/plain": [
       "<Figure size 504x504 with 1 Axes>"
      ]
     },
     "metadata": {
      "needs_background": "light"
     },
     "output_type": "display_data"
    }
   ],
   "source": [
    "scores_PC1 = plsda.x_scores_[:, 0]\n",
    "scores_PC2 = plsda.x_scores_[:, 1]\n",
    "\n",
    "num_inputs = X.shape[0]//2\n",
    "\n",
    "plt.figure(figsize =(7,7))\n",
    "plt.title(\"Scores Plot 128 x 128\")\n",
    "plt.scatter(scores_PC1[0:num_inputs - 1], scores_PC2[0:num_inputs - 1], c='tab:orange',marker='D', label=\"mes\")\n",
    "plt.scatter(scores_PC1[num_inputs:], scores_PC2[num_inputs:], c='tab:cyan',marker='D', label=\"pro\")\n",
    "plt.xlabel(\"PC1\")\n",
    "plt.ylabel(\"PC2\")\n",
    "plt.legend()\n",
    "plt.show()"
   ]
  },
  {
   "cell_type": "code",
   "execution_count": 20,
   "metadata": {},
   "outputs": [],
   "source": [
    "# x_loadings_PC1 = plsda.x_loadings_[:, 0]\n",
    "# x_loadings_PC2 = plsda.x_loadings_[:, 1] \n",
    "\n",
    "# y_loadings_PC1 = plsda.y_loadings_[:, 0]\n",
    "# y_loadings_PC2 = plsda.y_loadings_[:, 1] \n",
    "\n",
    "# y_weights_PC1  = plsda.y_weights_[:,0]\n",
    "# y_weights_PC2  = plsda.y_weights_[:,1]\n",
    "\n",
    "# # we are looking to plot w*c\n",
    "# # first lets find w*, where w* = w(p'w)^-1\n",
    "\n",
    "# wStar =(np.matmul(plsda.x_weights_, np.linalg.inv(np.matmul(plsda.x_loadings_.T, plsda.x_weights_))))\n",
    "\n",
    "# x_wStar_PC1  = wStar[:,0]\n",
    "# x_wStar_PC2  = wStar[:,1]\n",
    "\n",
    "# plt.figure(figsize=(4, 4), dpi=100)\n",
    "\n",
    "# # need to scale \n",
    "# plt.scatter(0.15*y_loadings_PC1,0.15*y_loadings_PC2, c='b', label = \"Response\") \n",
    "# plt.scatter(np.multiply(x_wStar_PC1, y_weights_PC1), np.multiply(x_wStar_PC2, y_weights_PC2), c='y', label=\"Signals\")\n",
    "# plt.legend()\n",
    "# plt.title(\"PC1 vs PC2 -- Loadings Plot\")\n",
    "# plt.xlabel(\"PC1\")\n",
    "# plt.ylabel(\"PC2\")"
   ]
  },
  {
   "cell_type": "markdown",
   "metadata": {},
   "source": [
    "# PERFORMING PLSDA\n",
    "Now that we have processed our csv file and correctly stored our oberservations into an array, we will begin to construct our model using PLSDA. After doing some research online we discovered a method for implementing PLSDA via PLSR. We will build a model using PLSR, where our yobs is an array of 0s (mesanchymal) or 1s (proneural). PLSR will make predictions which will result in continous values from 0 to 1. However, we need our data to be discrete so that we can correctly classify each image into a cell type. Thus, following PLSR we will need to threshold our ypred."
   ]
  },
  {
   "cell_type": "markdown",
   "metadata": {},
   "source": [
    "#### Calculation of R2X and R2Y\n",
    "This will be used to determin how many primary components to use"
   ]
  },
  {
   "cell_type": "code",
   "execution_count": 21,
   "metadata": {
    "scrolled": true
   },
   "outputs": [
    {
     "name": "stdout",
     "output_type": "stream",
     "text": [
      "91.86091015770673 % of variation for y accounted for using 6 PCs.\n"
     ]
    },
    {
     "data": {
      "image/png": "[encoded data removed]",
      "text/plain": [
       "<Figure size 432x288 with 1 Axes>"
      ]
     },
     "metadata": {
      "needs_background": "light"
     },
     "output_type": "display_data"
    },
    {
     "name": "stdout",
     "output_type": "stream",
     "text": [
      "Completed at: 1552262397.194458\n"
     ]
    }
   ],
   "source": [
    "import scipy as sp, numpy as np\n",
    "import scipy.io as sio\n",
    "from sklearn.preprocessing import scale, StandardScaler\n",
    "from sklearn.cross_decomposition import PLSRegression\n",
    "from sklearn.model_selection import LeaveOneGroupOut, LeaveOneOut\n",
    "from sklearn.metrics import r2_score\n",
    "import matplotlib.pyplot as plt\n",
    "\n",
    "import scipy\n",
    "from scipy import stats\n",
    "\n",
    "\n",
    "\n",
    "X_R2_data = []\n",
    "Y_R2_data = []\n",
    "\n",
    "def make_params_R2 (scores, loadings, observed):\n",
    "    loadings_transpose = np.ndarray.transpose(loadings)\n",
    "    x_model = np.squeeze(np.dot(scores, loadings_transpose))\n",
    "    # when is squeeze necessary\n",
    "    return (R2(x_model, observed))\n",
    "\n",
    "def R2 (x_model, observed):\n",
    "    sum_sq_err = np.sum(np.square(np.squeeze(np.subtract(x_model, observed))))\n",
    "    sq_obs = np.sum(np.square(observed))\n",
    "    return 1 - (sum_sq_err/sq_obs)\n",
    "\n",
    "max_pcs = 20\n",
    "reach_90_x = False\n",
    "reach_90_y = False\n",
    "\n",
    "for i in range(max_pcs):\n",
    "    pls= PLSRegression(n_components=(i+1))\n",
    "    pls.fit(x_zscore,y_zscore)\n",
    "    new_R2_X = make_params_R2(pls.x_scores_, pls.x_loadings_, x_zscore)\n",
    "    X_R2_data.append(new_R2_X)\n",
    "    if (new_R2_X > 0.9) and not reach_90_x:\n",
    "        print((100*new_R2_X), \"% of variation for x accounted for using\",(i+1), \"PCs.\")\n",
    "        reach_90_x = True\n",
    "    \n",
    "    Y_model = np.squeeze(pls.predict(x_zscore))\n",
    "    new_R2_Y = R2(Y_model, y_zscore)\n",
    "    Y_R2_data.append(new_R2_Y)\n",
    "    if (new_R2_Y > 0.9) and not reach_90_y:\n",
    "        print((100*new_R2_Y), \"% of variation for y accounted for using\", (i+1), \"PCs.\")\n",
    "        reach_90_y = True\n",
    "\n",
    "#plt.figure(figsize =(1300,80), dpi=100)\n",
    "plt.title(\"Number of PCs vs. Variance Accounted For\")\n",
    "plt.scatter(np.arange(1,max_pcs+1), X_R2_data, label=\"x-variance\")\n",
    "plt.scatter(np.arange(1,max_pcs+1), Y_R2_data, label=\"y-variance\")\n",
    "plt.xlabel(\"Number of PCs\")\n",
    "plt.ylabel(\"Variance Accounted For\")\n",
    "plt.legend()\n",
    "plt.show()\n",
    "\n",
    "print(\"Completed at: {}\".format(time.time()))"
   ]
  },
  {
   "cell_type": "markdown",
   "metadata": {},
   "source": [
    "#### Leave One Out Cross Validation\n",
    "Perform LOO cross validation on our model to evaluate the predicted error of our model"
   ]
  },
  {
   "cell_type": "code",
   "execution_count": 43,
   "metadata": {},
   "outputs": [
    {
     "name": "stdout",
     "output_type": "stream",
     "text": [
      "Completed at: 1552263383.9340124\n"
     ]
    }
   ],
   "source": [
    "# build model and run LOO cross validation\n",
    "num_of_comp = 6\n",
    "loo = LeaveOneOut()\n",
    "\n",
    "Y_raw_loo = []\n",
    "Y_test_loo = []\n",
    "pls_loo = PLSRegression(n_components=(num_of_comp))\n",
    "\n",
    "for train_index, test_index in loo.split(X, Y):\n",
    "    \n",
    "    pls_loo.fit_transform(X[train_index], Y[train_index])\n",
    "    pls_loo.transform(X[test_index])\n",
    "    new_y_pred = pls_loo.predict(X[test_index])\n",
    "    Y_raw_loo.append(np.squeeze(new_y_pred))\n",
    "    Y_test_loo.append((Y[test_index]))\n",
    "    \n",
    "print(\"Completed at: {}\".format(time.time()))"
   ]
  },
  {
   "cell_type": "code",
   "execution_count": 51,
   "metadata": {},
   "outputs": [
    {
     "name": "stdout",
     "output_type": "stream",
     "text": [
      "5.244597955769613\n",
      "-3.783712819630958\n",
      "28.42315282193717\n",
      "37.24772331139417\n",
      "-6.725506495463081\n",
      "-4.496684956065613\n",
      "-10.167658129781067\n",
      "-4.252147393527636\n",
      "42.91746782061958\n",
      "23.878118554979114\n",
      "-6.380875177818577\n",
      "13.951524238025023\n",
      "28.63022912638865\n",
      "22.599898129737156\n",
      "40.49498045687641\n",
      "22.865767070552\n",
      "17.03167254450091\n",
      "28.000150103498672\n",
      "5.641274354499454\n",
      "22.778857977908274\n",
      "-8.238424845587932\n",
      "21.03461889917528\n",
      "24.553487900279457\n",
      "30.70860037319862\n",
      "26.522792414248535\n",
      "-23.594800714432548\n",
      "10.420186820321641\n",
      "-1.8307740175309757\n",
      "41.09649954318981\n",
      "-20.9752254555839\n",
      "14.490593399883867\n",
      "9.663991105905144\n",
      "0.3049479457306461\n",
      "19.711936419855558\n",
      "10.583851714203004\n",
      "6.741438123784761\n",
      "35.1080197172803\n",
      "-19.76972342821544\n",
      "11.609449182402196\n",
      "38.880831437221474\n",
      "2.6726014347077065\n",
      "13.711869885266342\n",
      "19.905344517227242\n",
      "7.239878056887061\n",
      "5.882344221769882\n",
      "-3.0019961096768384\n",
      "-19.898022336827243\n",
      "49.220758753362034\n",
      "-0.0393308816524538\n",
      "0.26198258325201884\n",
      "13.140042285274959\n",
      "34.18907545400151\n",
      "4.433276029220171\n",
      "11.367501504266567\n",
      "-10.506347757276242\n",
      "14.230155918627956\n",
      "10.386283670480585\n",
      "-4.152260212800046\n",
      "9.038312940077267\n",
      "9.440308154066251\n",
      "15.832639437956162\n",
      "-18.356692159676083\n",
      "5.175583964431\n",
      "16.71109956063499\n",
      "12.795038012319434\n",
      "-12.787639050994594\n",
      "42.461839873333034\n",
      "19.51353960659851\n",
      "20.375651978620642\n",
      "6.477841896549018\n",
      "-4.023849865992503\n",
      "4.885336973281748\n",
      "-6.033155416114333\n",
      "11.347962084768064\n",
      "-8.08011557895384\n",
      "11.072036728630632\n",
      "7.091339359972512\n",
      "7.027573729719489\n",
      "-3.094670038912417\n",
      "-9.287158760972163\n",
      "-4.636393349150616\n",
      "28.423371235072953\n",
      "-6.680290513028282\n",
      "-6.492183199563856\n",
      "20.770688896244685\n",
      "22.603011145217543\n",
      "1.7646774049599232\n",
      "3.0370295845369935\n",
      "28.462698196955014\n",
      "2.7981194298147445\n",
      "27.05913975229766\n",
      "24.71686706089376\n",
      "6.13478659089514\n",
      "12.760572826817338\n",
      "0.9646448398108474\n",
      "3.5792167434093907\n",
      "-4.5281330304732155\n",
      "18.954016343064474\n",
      "26.442496941038552\n",
      "0.8823626461294074\n",
      "-3.9563927898723055\n",
      "-1.0607328226179344\n",
      "-4.676061407313204\n",
      "7.533428217777891\n",
      "-0.9857102499247468\n",
      "-4.811436469965342\n",
      "6.299418937820983\n",
      "7.394103237334925\n",
      "1.3916586127250419\n",
      "19.300923526150846\n",
      "-1.8667396246376882\n",
      "3.5040190300395375\n",
      "29.425559842390847\n",
      "3.177794877392702\n",
      "-0.3214937676980636\n",
      "7.188532465671681\n",
      "8.709515304886382\n",
      "27.203313310189444\n",
      "3.1356578808284468\n",
      "-4.874467451083401\n",
      "1.23140497207266\n",
      "-0.7510000753912571\n",
      "5.843659029058079\n",
      "7.0568366035128545\n",
      "21.682942639717147\n",
      "5.970788331197918\n",
      "27.81534316676038\n",
      "9.848766817182328\n",
      "13.042678185894578\n",
      "-9.948881142555777\n",
      "6.909492996165071\n",
      "4.541243729204933\n",
      "-11.67365195414046\n",
      "8.200503990965682\n",
      "35.667217721561094\n",
      "10.048915311785754\n",
      "16.697277181416347\n",
      "32.10718671801451\n",
      "2.019628886877112\n",
      "0.2161276428247767\n",
      "-3.809048220897383\n",
      "6.804825465251323\n",
      "4.234034125512388\n",
      "9.555858699915081\n",
      "6.062349148616738\n",
      "3.9520415501661414\n",
      "-3.2402258711139442\n",
      "0.29028243974483203\n",
      "32.20302398231691\n",
      "3.3630765460640157\n",
      "4.798697849558021\n",
      "-2.9793854518911207\n",
      "-9.563263749239159\n",
      "-7.6347524893212935\n",
      "-1.3354562832058843\n",
      "4.500308913796124\n",
      "1.0325623442909801\n",
      "-7.269432800356775\n",
      "35.71197011342427\n",
      "11.252674837512759\n",
      "3.2668068730918156\n",
      "3.5473315902852463\n",
      "3.7222229792292287\n",
      "3.640853167317861\n",
      "23.515159279347124\n",
      "7.009816138873781\n",
      "13.73394043667215\n",
      "16.693727933170667\n",
      "10.193459827533202\n",
      "29.76538430015839\n",
      "-10.67955820138813\n",
      "15.106050507575429\n",
      "-0.5758402864568417\n",
      "-2.2257108110345065\n",
      "9.891477786476356\n",
      "-0.8386165180548204\n",
      "4.717673421478336\n",
      "7.035364086178463\n",
      "-1.2141372705280098\n",
      "7.1246728812875055\n",
      "4.493079140505635\n",
      "17.562079886072237\n",
      "LOO Cross Validation Results [128 CASE]:\n",
      "mes cells correctly predicted:  38\n",
      "mes cells incorrecly predicted:  16\n",
      "pro cells correctly predicted:  14\n",
      "pro cells incorrectly predicted:  114\n"
     ]
    }
   ],
   "source": [
    "# threshold our results to parse our data into two categories: (0) mes and (1) pro\n",
    "Y_predict_loo = []\n",
    "num_inputs = X.shape[0]\n",
    "\n",
    "for i in range(num_inputs):\n",
    "    print(Y_raw_loo[i])\n",
    "    if Y_raw_loo[i] >= 0.45:\n",
    "        Y_predict_loo.append(np.squeeze(1))\n",
    "    else:\n",
    "        Y_predict_loo.append(np.squeeze(0))\n",
    "    \n",
    "np.squeeze(Y_predict_loo)\n",
    "np.squeeze(Y_test_loo)\n",
    "\n",
    "# count number of correct predictions made by our model\n",
    "mes_correct = 0\n",
    "mes_false_pos = 0\n",
    "pro_false_pos = 0\n",
    "pro_correct = 0\n",
    "for i in range(num_inputs):\n",
    "    if (Y_predict_loo[i] == Y_test_loo[i]):\n",
    "        if Y_predict_loo[i] == 0:\n",
    "            mes_correct += 1\n",
    "        else:\n",
    "            pro_correct += 1\n",
    "    elif (Y_predict_loo[i] != Y_test_loo[i]):\n",
    "        if Y_predict_loo[i] == 0:\n",
    "            mes_false_pos += 1\n",
    "        else:\n",
    "            pro_false_pos += 1\n",
    "print(\"LOO Cross Validation Results [128 CASE]:\")\n",
    "print(\"mes cells correctly predicted: \", mes_correct)\n",
    "print(\"mes cells incorrecly predicted: \", mes_false_pos)\n",
    "print(\"pro cells correctly predicted: \", pro_correct)\n",
    "print(\"pro cells incorrectly predicted: \", pro_false_pos)"
   ]
  },
  {
   "cell_type": "markdown",
   "metadata": {},
   "source": [
    "#### K-Fold Crossvalidation\n",
    "Run K-fold with 5-10 observations held out to compare with performance of LOOCV"
   ]
  },
  {
   "cell_type": "code",
   "execution_count": 45,
   "metadata": {},
   "outputs": [],
   "source": [
    "num_of_comp = 6\n",
    "logo = LeaveOneGroupOut()\n",
    "\n",
    "group_size = 8\n",
    "groups = []\n",
    "for i in range(X.shape[0]):\n",
    "    groups.append(i % group_size)\n",
    "groups = np.array(groups)\n",
    "\n",
    "X = np.array(X)\n",
    "Y = np.array(Y)\n",
    "X = X.astype(float)\n",
    "\n",
    "Y_raw_preds = []\n",
    "Y_test_logo = []\n",
    "pls_logo = PLSRegression(n_components=(num_of_comp))\n",
    "\n",
    "for train_index, test_index in logo.split(X, groups=groups):\n",
    "    X_train = X[train_index]\n",
    "    Y_train = Y[train_index]\n",
    "    \n",
    "    # Scale\n",
    "    scaler = StandardScaler()\n",
    "    X_train_zs = scaler.fit_transform(X_train)\n",
    "    X_test_zs = scaler.transform(X[test_index])\n",
    "    \n",
    "    # Fit model\n",
    "    pls_logo.fit(X_train_zs, Y_train)\n",
    "    Y_test_pred = pls_logo.predict(X_test_zs)\n",
    "    Y_raw_preds.append(np.squeeze(np.array(Y_test_pred)))\n",
    "    Y_test_logo.append(Y[test_index])\n",
    "    \n",
    "    # Log\n",
    "    # print(np.squeeze(np.array(Y_test_pred)))\n",
    "    # print(Y[test_index])\n",
    "\n",
    "\n"
   ]
  },
  {
   "cell_type": "code",
   "execution_count": 46,
   "metadata": {},
   "outputs": [
    {
     "name": "stdout",
     "output_type": "stream",
     "text": [
      "(182,)\n",
      "(182,)\n",
      "Completed at: 1552263387.122433\n"
     ]
    }
   ],
   "source": [
    "# Manually flatten\n",
    "Y_test_logo_flat = []\n",
    "for i in range(len(Y_test_logo)):\n",
    "    for j in range(len(Y_test_logo[i])):\n",
    "        Y_test_logo_flat.append(Y_test_logo[i][j])\n",
    "        \n",
    "Y_raw_preds_flat = []\n",
    "for i in range(len(Y_raw_preds)):\n",
    "    for j in range(len(Y_raw_preds[i])):\n",
    "        Y_raw_preds_flat.append(Y_raw_preds[i][j])\n",
    "        \n",
    "Y_test_logo_flat = np.array(Y_test_logo_flat)\n",
    "Y_raw_preds_flat = np.array(Y_raw_preds_flat)\n",
    "\n",
    "print(Y_raw_preds_flat.shape)\n",
    "print(Y_test_logo_flat.shape)\n",
    "print(\"Completed at: {}\".format(time.time()))"
   ]
  },
  {
   "cell_type": "code",
   "execution_count": 49,
   "metadata": {},
   "outputs": [
    {
     "name": "stdout",
     "output_type": "stream",
     "text": [
      "[1, 1, 1, 1, 1, 1, 0, 0, 1, 0, 0, 1, 0, 0, 1, 0, 1, 1, 1, 0, 1, 1, 1, 1, 1, 1, 0, 1, 1, 1, 0, 0, 1, 1, 1, 1, 0, 1, 1, 0, 1, 1, 0, 1, 1, 1, 1, 0, 1, 1, 1, 1, 1, 1, 1, 0, 0, 1, 1, 1, 1, 1, 1, 1, 0, 0, 1, 0, 0, 1, 1, 1, 1, 1, 1, 1, 1, 1, 1, 0, 1, 0, 1, 1, 1, 1, 1, 0, 1, 1, 1, 1, 0, 1, 0, 1, 1, 1, 1, 1, 1, 1, 1, 1, 0, 1, 1, 1, 0, 0, 1, 0, 1, 1, 1, 0, 1, 1, 0, 0, 1, 1, 0, 0, 1, 1, 1, 0, 1, 1, 1, 1, 1, 0, 0, 1, 0, 1, 0, 1, 1, 1, 1, 0, 0, 1, 0, 0, 0, 1, 0, 0, 1, 1, 1, 1, 1, 1, 1, 1, 0, 1, 1, 1, 1, 1, 1, 1, 1, 0, 1, 1, 1, 1, 0, 1, 1, 1, 0, 1, 1, 0]\n",
      "[  9   0  62  47   0   0   0   0   0   0  24  62   0  16   0   0   1   7\n",
      "   0   0   0   0   8  31   0  44   0   2   0   2   2   4   1   0   0   0\n",
      "   0   2   1   0  71   1   0   2   0   0  31   0   0  59  41   1   0   2\n",
      "  99   0   1   0   0   0   0   1   0   0   4   0   3   0   0   4   3   0\n",
      "   0   1   2  13   0   0   3   4   0   0   0   0   0   0   0   0   2   0\n",
      "  28   1   0 101   0   0  73   0   1   0   0   0   0   0   1   1  15  26\n",
      "   0   0  56   0  13   0   0   0   0   0   0   0   0   0   0   3   0   0\n",
      "   1   0  47  89   2   6   0   1   3   0   0   0  43  45   0  30   0   0\n",
      "   0  14   0   1   0   0   0   1   0   0  12   0   0   0  21  28   0   0\n",
      " 124   0  31  24   1  27   1   2   0   0   0   1   0   0   0   0   0  19\n",
      "   0   0]\n",
      "8-Fold Crossvalidation Results [128 CASE]:\n",
      "mes cells correctly predicted:  38\n",
      "mes cells incorrecly predicted:  16\n",
      "pro cells correctly predicted:  14\n",
      "pro cells incorrectly predicted:  114\n",
      "Completed at: 1552263422.0942705\n"
     ]
    }
   ],
   "source": [
    "Y_class_preds = []\n",
    "num_inputs = X.shape[0]\n",
    "\n",
    "for i in range(num_inputs):\n",
    "    if Y_raw_preds_flat[i] >= 0.45:\n",
    "        Y_class_preds.append(1)\n",
    "    else:\n",
    "        Y_class_preds.append(0)\n",
    "\n",
    "print(Y_class_preds)   \n",
    "print(Y_test_logo_flat)   \n",
    "\n",
    "mes_correct = 0\n",
    "mes_false_pos = 0\n",
    "pro_false_pos = 0\n",
    "pro_correct = 0\n",
    "for i in range(num_inputs):\n",
    "    if (Y_predict_loo[i] == Y_test_loo[i]):\n",
    "        if Y_predict_loo[i] == 0:\n",
    "            mes_correct += 1\n",
    "        else:\n",
    "            pro_correct += 1\n",
    "    elif (Y_predict_loo[i] != Y_test_loo[i]):\n",
    "        if Y_predict_loo[i] == 0:\n",
    "            mes_false_pos += 1\n",
    "        else:\n",
    "            pro_false_pos += 1\n",
    "\n",
    "\n",
    "\n",
    "print(\"{}-Fold Crossvalidation Results [128 CASE]:\".format(group_size))\n",
    "print(\"mes cells correctly predicted: \", mes_correct)\n",
    "print(\"mes cells incorrecly predicted: \", mes_false_pos)\n",
    "print(\"pro cells correctly predicted: \", pro_correct)\n",
    "print(\"pro cells incorrectly predicted: \", pro_false_pos)\n",
    "\n",
    "print(\"Completed at: {}\".format(time.time()))"
   ]
  },
  {
   "cell_type": "markdown",
   "metadata": {},
   "source": [
    "#### Random Model Control\n",
    "Build set of predictions made by the random choice of 0 or 1. Use the accuracy of this model to serve as a baseline for our PLSDA model. If our PLSDA model does better than random, we have a success."
   ]
  },
  {
   "cell_type": "code",
   "execution_count": 50,
   "metadata": {},
   "outputs": [
    {
     "name": "stdout",
     "output_type": "stream",
     "text": [
      "Random Prediction Results: \n",
      "mes cells correctly predicted:  57\n",
      "mes cells incorrecly predicted:  34\n",
      "pro cells correctly predicted:  14\n",
      "pro cells incorrectly predicted:  77\n"
     ]
    }
   ],
   "source": [
    "# build data set of random values from [0,1]\n",
    "Y_random = []\n",
    "num_inputs = X.shape[0]\n",
    "\n",
    "\n",
    "for i in range(num_inputs):\n",
    "    Y_random.append(np.random.randint(0,2))\n",
    "Y_random = np.array(Y_random)\n",
    "\n",
    "mes_correct = 0\n",
    "mes_false_pos = 0\n",
    "pro_false_pos = 0\n",
    "pro_correct = 0\n",
    "\n",
    "# evaluate success of random prediction\n",
    "for i in range(num_inputs):\n",
    "    if (Y_random[i] == Y[i]):\n",
    "        if Y_random[i] == 0:\n",
    "            mes_correct += 1\n",
    "        else:\n",
    "            pro_correct += 1\n",
    "    elif (Y_random[i] != Y[i]):\n",
    "        if Y_random[i] == 0:\n",
    "            mes_false_pos += 1\n",
    "        else:\n",
    "            pro_false_pos += 1\n",
    "            \n",
    "print(\"Random Prediction Results: \")\n",
    "print(\"mes cells correctly predicted: \", mes_correct)\n",
    "print(\"mes cells incorrecly predicted: \", mes_false_pos)\n",
    "print(\"pro cells correctly predicted: \", pro_correct)\n",
    "print(\"pro cells incorrectly predicted: \", pro_false_pos)\n"
   ]
  },
  {
   "cell_type": "code",
   "execution_count": null,
   "metadata": {},
   "outputs": [],
   "source": []
  }
 ],
 "metadata": {
  "kernelspec": {
   "display_name": "Python 3",
   "language": "python",
   "name": "python3"
  },
  "language_info": {
   "codemirror_mode": {
    "name": "ipython",
    "version": 3
   },
   "file_extension": ".py",
   "mimetype": "text/x-python",
   "name": "python",
   "nbconvert_exporter": "python",
   "pygments_lexer": "ipython3",
   "version": "3.6.5"
  }
 },
 "nbformat": 4,
 "nbformat_minor": 2
}
