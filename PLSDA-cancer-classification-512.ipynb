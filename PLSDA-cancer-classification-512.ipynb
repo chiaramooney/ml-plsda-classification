{
 "cells": [
  {
   "cell_type": "markdown",
   "metadata": {},
   "source": [
    "# PLSDA Cancer Classification on GBM Cell Lines"
   ]
  },
  {
   "cell_type": "code",
   "execution_count": 35,
   "metadata": {},
   "outputs": [],
   "source": [
    "import csv\n",
    "import time\n",
    "\n",
    "import numpy as np\n",
    "import matplotlib.pyplot as plt\n",
    "import matplotlib\n",
    "\n",
    "import scipy\n",
    "from scipy import stats\n",
    "from sklearn.cross_decomposition import PLSRegression\n",
    "import scipy.io as sio\n",
    "from sklearn.preprocessing import scale, StandardScaler\n",
    "from sklearn.model_selection import LeaveOneGroupOut, LeaveOneOut\n",
    "from sklearn.metrics import r2_score\n",
    "\n",
    "LOG_FLAG = False  # Flag to print debugging/log text\n",
    "\n",
    "# Increase font sizes\n",
    "matplotlib.rcParams.update({'font.size': 16})"
   ]
  },
  {
   "cell_type": "markdown",
   "metadata": {},
   "source": [
    "# Parsing Data\n",
    "After performing preprocessing on our images, the input data for this program will be a '.csv' file. The following code parses the data in that file and stores it into two arrays. X will be the array that contains the pixel color values for all of the pixels in all 100 of our images. Y will be the array which lists the label (0) mes or (1) pro for each of the cell images. "
   ]
  },
  {
   "cell_type": "code",
   "execution_count": 2,
   "metadata": {},
   "outputs": [],
   "source": [
    "csv_filename = '/Users/Ryan/Dropbox/Sharing/project data/data.csv'\n",
    "\n",
    "IMAGE_DIM = 512   # Images cut into sizes of IMAGE_DIM x IMAGE_DIM\n",
    "data = []    # Data matrix to hold csv read data\n",
    "\n",
    "# Open CSV, read row by row, parsing into data matrix\n",
    "with open(csv_filename, 'r') as f:\n",
    "    reader = csv.reader(f)\n",
    "    for row in reader:\n",
    "        data.append(row[1:])  \n",
    "data = np.array(data)\n",
    "\n",
    "# Separate data matrix into X inputs and Y labels. Y labels are indicated \n",
    "# by the last column\n",
    "X = data[:, 0:-1]\n",
    "Y = data[:, -1]\n",
    "X = X.astype(int)\n",
    "Y = Y.astype(int)"
   ]
  },
  {
   "cell_type": "markdown",
   "metadata": {},
   "source": [
    "## Verify and Normalize Parsed Data\n",
    "Read data from data matrix, ensure that the labels are what we expect, and if so, zscore"
   ]
  },
  {
   "cell_type": "code",
   "execution_count": 3,
   "metadata": {},
   "outputs": [],
   "source": [
    "def verify_y_vector(y):\n",
    "    '''Ensures that y vector consists of only labels 0 and 1'''\n",
    "    for label in y:\n",
    "        if label != 0 and label != 1:\n",
    "            return False\n",
    "    return True"
   ]
  },
  {
   "cell_type": "code",
   "execution_count": 4,
   "metadata": {},
   "outputs": [],
   "source": [
    "# Test integrity of parsed Y vector\n",
    "assert(verify_y_vector(Y) == True)\n",
    "\n",
    "# Normalize data\n",
    "x_zscore = scipy.stats.mstats.zscore(X, axis=0)\n",
    "\n",
    "y_zscore = scipy.stats.zscore(Y)\n",
    "Y_mean = np.mean(Y)\n",
    "Y_std = np.std(Y)"
   ]
  },
  {
   "cell_type": "code",
   "execution_count": 5,
   "metadata": {},
   "outputs": [
    {
     "name": "stdout",
     "output_type": "stream",
     "text": [
      "Inputs matrix size: (100, 262143)\n",
      "Outputs matrix size: (100,)\n"
     ]
    }
   ],
   "source": [
    "# Print data shape\n",
    "print(\"Inputs matrix size: {}\".format(X.shape))\n",
    "print(\"Outputs matrix size: {}\".format(Y.shape))"
   ]
  },
  {
   "cell_type": "markdown",
   "metadata": {},
   "source": [
    "# Preprocessing\n",
    "\n",
    "We characterize some properties of our data. Namely, we first compute R2X and R2Y for increasing number of components. We indicate that a 90% threshold of captured Y-variance is the determining factor in the number of components used to perform our PLS Regression. This process is illustrated below, accompanied by the scores plot to visualize the resulting relationships."
   ]
  },
  {
   "cell_type": "markdown",
   "metadata": {},
   "source": [
    "#### Calculation of R2X and R2Y\n",
    "This will be used to determin how many primary components to use"
   ]
  },
  {
   "cell_type": "code",
   "execution_count": 6,
   "metadata": {},
   "outputs": [],
   "source": [
    "def R2 (model, observed):\n",
    "    diff = np.squeeze(np.subtract(model, observed))\n",
    "    sum_sq_err = np.sum(np.square(diff))\n",
    "    sq_obs = np.sum(np.square(observed))\n",
    "    return 1 - (sum_sq_err/sq_obs)\n",
    "\n",
    "def compute_r2x (scores, loadings, observed):\n",
    "    loadings_transpose = np.ndarray.transpose(loadings)\n",
    "    model = np.squeeze(np.dot(scores, loadings_transpose))\n",
    "    return R2(model, observed)"
   ]
  },
  {
   "cell_type": "code",
   "execution_count": 7,
   "metadata": {
    "scrolled": true
   },
   "outputs": [
    {
     "name": "stdout",
     "output_type": "stream",
     "text": [
      "92.8152576224 % of variation for y accounted for using 2 PCs.\n"
     ]
    }
   ],
   "source": [
    "min_num_pcs = 0     # Stores the min num PCs required \n",
    "                    # to capture 90% of Y-variance\n",
    "max_pcs = 20    # Upper bound on PCs\n",
    "    \n",
    "R2X_range = []\n",
    "R2Y_range = []\n",
    "\n",
    "reach_90_x = False  # Flag set in the for loop below if we reach \n",
    "                    # 90% X variance captured\n",
    "reach_90_y = False  # Flag set in the for loop below if we reach \n",
    "                    # 90% Y variance captured\n",
    "\n",
    "# Compute captured variance for the PC range for both X and Y\n",
    "for i in range(max_pcs):\n",
    "    pls = PLSRegression(n_components=(i+1))\n",
    "    pls.fit(x_zscore,y_zscore)\n",
    "    \n",
    "    # Compute R2X from scores and loadings\n",
    "    R2X = compute_r2x(pls.x_scores_, pls.x_loadings_, x_zscore)\n",
    "    R2X_range.append(R2X)\n",
    "    if (R2X > 0.9) and not reach_90_x:\n",
    "        print((100 * R2X), \"% of variation for x accounted for using\",(i+1), \"PCs.\")\n",
    "        reach_90_x = True\n",
    "    \n",
    "    # Compute R2Y\n",
    "    Y_model = np.squeeze(pls.predict(x_zscore))\n",
    "    R2Y = R2(Y_model, y_zscore)\n",
    "    R2Y_range.append(R2Y)\n",
    "    if (R2Y > 0.9) and not reach_90_y:\n",
    "        print((100 * R2Y), \"% of variation for y accounted for using\", (i+1), \"PCs.\")\n",
    "        min_num_pcs = i+1   # Set Min num PCs here for use later \n",
    "        reach_90_y = True"
   ]
  },
  {
   "cell_type": "code",
   "execution_count": 9,
   "metadata": {},
   "outputs": [],
   "source": [
    "def flatten_logo_output (logo_output):\n",
    "    '''Flatten data from LOGO crossvalidation in order to easier analyze'''\n",
    "    flat = []\n",
    "    for i in range(len(logo_output)):\n",
    "        for j in range(len(logo_output[i])):\n",
    "            flat.append(logo_output[i][j])\n",
    "    return flat"
   ]
  },
  {
   "cell_type": "code",
   "execution_count": 37,
   "metadata": {},
   "outputs": [],
   "source": [
    "def cv_predict_and_report_opt(component_range, X, Y):\n",
    "    # Threshold our results to classify our data into two categories:\n",
    "    # (0) mes and (1) pro. Then evaluate the prediction error for our\n",
    "    # model. We will do this for a range of threshold values from -1 to 1\n",
    "    # and plot the resulting ROC curve\n",
    "    q2y_results = []\n",
    "    opt_num_components = 0  # Corresponds to maximal Q2Y\n",
    "    opt_q2y_Y_test = []     # Holds the optimal Y_test\n",
    "    opt_q2y_Y_pred = []     # Holds the optimal Y_pred\n",
    "    \n",
    "    q2y_did_decrease = False  # Flag to indicate when Q2Y max found\n",
    "    q2y_max = 0\n",
    "    \n",
    "    for num_of_comp in component_range:\n",
    "        num_observations = X.shape[0]\n",
    "\n",
    "        logo = LeaveOneGroupOut()\n",
    "\n",
    "        # Assign a group to each observation\n",
    "        num_groups = 8\n",
    "        groups = []\n",
    "        for i in range(num_observations):\n",
    "            groups.append(i % num_groups)\n",
    "        groups = np.array(groups)\n",
    "\n",
    "        # Convert arrays to numpy arrays to be able to use indexing format\n",
    "        X = np.array(X)\n",
    "        Y = np.array(Y)\n",
    "        X = X.astype(float)  # To silence the warnings of performing int with\n",
    "        # float operations\n",
    "\n",
    "        pls_logo = PLSRegression(n_components=(num_of_comp))\n",
    "\n",
    "        Y_pred = []  # Stores predictions on the test set based on the\n",
    "        # trained model\n",
    "        Y_test = []  # Stores the true labels. This list is in the same\n",
    "        # order as Y_pred so we know the order in which we\n",
    "        # should compare\n",
    "\n",
    "        # Split into training and testing data and predict\n",
    "        for train_index, test_index in logo.split(X, groups=groups):\n",
    "            # Partition\n",
    "            X_train = X[train_index]\n",
    "            Y_train = Y[train_index]\n",
    "\n",
    "            # Normalize X\n",
    "            scaler = StandardScaler()\n",
    "            X_train_zs = scaler.fit_transform(X_train, Y_train)\n",
    "            X_test_zs = scaler.transform(X[test_index])\n",
    "\n",
    "            # Fit model\n",
    "            pls_logo.fit(X_train_zs, Y_train)\n",
    "\n",
    "            # Store data\n",
    "            Y_pred.append(np.squeeze(pls_logo.predict(X_test_zs)))\n",
    "            Y_test.append(Y[test_index])\n",
    "\n",
    "            # Log\n",
    "            if (LOG_FLAG):\n",
    "                print(np.squeeze(np.array(Y_test_pred)))\n",
    "                print(Y[test_index])\n",
    "\n",
    "        # Report the predicted sum of squared error\n",
    "        Y_test_flat = flatten_logo_output(Y_test)\n",
    "        Y_pred_flat = flatten_logo_output(Y_pred)\n",
    "        pred_sum_of_sqr_error = np.sum(np.square(np.subtract(Y_test_flat, \n",
    "                                                             Y_pred_flat)))\n",
    "        sum_of_sqr = np.sum(np.square(Y_test_flat))\n",
    "        q2y = 1 - (pred_sum_of_sqr_error / sum_of_sqr)\n",
    "        \n",
    "        # Check if Q2Y decreases from previous value. If so, mark \n",
    "        # previous component number as maximal q2y, and assign the \n",
    "        # optimal values to their arrays\n",
    "        if (len(q2y_results) > 0 and q2y > q2y_max):\n",
    "            opt_q2y_Y_pred = Y_pred_flat\n",
    "            opt_q2y_Y_test = Y_test_flat\n",
    "            opt_num_components = num_of_comp\n",
    "            print(\"Found new optimal. Number of components: {}\"\n",
    "                   .format(opt_num_components))\n",
    "            q2y_max = q2y\n",
    "            \n",
    "        q2y_results.append(q2y)\n",
    "        \n",
    "        print(\"{} component(s). Q2Y: {}\"\n",
    "              .format(num_of_comp, q2y))\n",
    "        \n",
    "    return q2y_results, opt_q2y_Y_pred, opt_q2y_Y_test, opt_num_components"
   ]
  },
  {
   "cell_type": "code",
   "execution_count": 38,
   "metadata": {},
   "outputs": [
    {
     "name": "stdout",
     "output_type": "stream",
     "text": [
      "1 component(s). Q2Y: 0.7178551058029896\n",
      "Found new optimal. Number of components: 2\n",
      "2 component(s). Q2Y: 0.7142904988557763\n",
      "Found new optimal. Number of components: 3\n",
      "3 component(s). Q2Y: 0.7234547247224408\n",
      "Found new optimal. Number of components: 4\n",
      "4 component(s). Q2Y: 0.730054671840393\n",
      "5 component(s). Q2Y: 0.7269585384758526\n",
      "6 component(s). Q2Y: 0.7252545422994909\n",
      "7 component(s). Q2Y: 0.7232154366726098\n",
      "8 component(s). Q2Y: 0.7248002328938871\n",
      "9 component(s). Q2Y: 0.7253611161132534\n",
      "10 component(s). Q2Y: 0.7248991747728725\n"
     ]
    }
   ],
   "source": [
    "component_range = np.arange(1, 11)\n",
    "q2y_range, opt_Y_pred, opt_Y_test, opt_num_components = cv_predict_and_report_opt(component_range, X, Y)"
   ]
  },
  {
   "cell_type": "code",
   "execution_count": 39,
   "metadata": {},
   "outputs": [
    {
     "data": {
      "image/png": "[encoded data removed]",
      "text/plain": [
       "<Figure size 700x700 with 1 Axes>"
      ]
     },
     "metadata": {
      "needs_background": "light"
     },
     "output_type": "display_data"
    }
   ],
   "source": [
    "# Plot results\n",
    "plt.figure(figsize =(7,7), dpi=100)\n",
    "plt.title(\"Number of PCs vs. Variance Accounted For {}x{}\"\n",
    "         .format(IMAGE_DIM, IMAGE_DIM))\n",
    "plt.xlabel(\"Number of PCs\")\n",
    "plt.ylabel(\"Variance Accounted For\")\n",
    "plt.scatter(np.arange(1,max_pcs+1), \n",
    "            R2X_range, \n",
    "            label=\"X-variance\",\n",
    "            alpha=0.5)\n",
    "plt.scatter(np.arange(1,max_pcs+1), \n",
    "            R2Y_range, \n",
    "            label=\"Y-variance\",\n",
    "            alpha=0.5)\n",
    "plt.scatter(component_range, \n",
    "            q2y_range, \n",
    "            label=\"Q2Y\",\n",
    "            alpha=0.5)\n",
    "plt.legend()\n",
    "plt.show()"
   ]
  },
  {
   "cell_type": "code",
   "execution_count": 40,
   "metadata": {},
   "outputs": [
    {
     "name": "stdout",
     "output_type": "stream",
     "text": [
      "Verifying X_scores shape: (100, 2)\n"
     ]
    },
    {
     "data": {
      "image/png": "[encoded data removed]",
      "text/plain": [
       "<Figure size 504x504 with 1 Axes>"
      ]
     },
     "metadata": {
      "needs_background": "light"
     },
     "output_type": "display_data"
    }
   ],
   "source": [
    "# Based on the PCs we found to maximize Q2Y \n",
    "# we use that to continue our analysis. Here we construct \n",
    "# a scores plot\n",
    "plsda = PLSRegression(n_components = min_num_pcs)\n",
    "plsda.fit(x_zscore,y_zscore)\n",
    "print(\"Verifying X_scores shape: {}\".format(plsda.x_scores_.shape))\n",
    "\n",
    "# Extract PC1 and PC2\n",
    "scores_PC1 = plsda.x_scores_[:, 0]\n",
    "scores_PC2 = plsda.x_scores_[:, 1]\n",
    "\n",
    "# Since we know the number of observations are the same for mesenchymal \n",
    "# and pronerual the number of observations for each is half of the total \n",
    "num_observations_for_class = X.shape[0] // 2\n",
    "\n",
    "# Plot scores, separating into Mes and Pro classes based on label. \n",
    "# Because we know the order in which we structured the CSV, we know \n",
    "# the first half is mesenchymal and the second is proneural\n",
    "plt.figure(figsize =(7,7))\n",
    "plt.title(\"Scores Plot {} x {}\".format(IMAGE_DIM, IMAGE_DIM))\n",
    "plt.xlabel(\"PC1\")\n",
    "plt.ylabel(\"PC2\")\n",
    "plt.scatter(scores_PC1[0:num_observations_for_class - 1], \n",
    "            scores_PC2[0:num_observations_for_class - 1], \n",
    "            c='tab:orange',marker='D', label=\"Mesenchymal\")\n",
    "plt.scatter(scores_PC1[num_observations_for_class:], \n",
    "            scores_PC2[num_observations_for_class:], \n",
    "            c='tab:cyan',marker='D', label=\"Proneural\")\n",
    "plt.legend()\n",
    "plt.show()"
   ]
  },
  {
   "cell_type": "markdown",
   "metadata": {},
   "source": [
    "# Assessing PLSDA Prediction Performance\n",
    "\n",
    "After doing some research online we discovered a method for implementing PLSDA via PLSR. We will build a model using PLSR, where our y_observed is an array of 0s (mesenchymal) or 1s (proneural). PLSR will make predictions which will result in continous values. However, we need our data to be discrete so that we can correctly classify each image into a cell type. Thus, following PLSR, we will need to threshold our y_predicted."
   ]
  },
  {
   "cell_type": "markdown",
   "metadata": {},
   "source": [
    "### Leave One Out Cross Validation\n",
    "Perform LOO cross validation on our model to evaluate the prediction error of our model"
   ]
  },
  {
   "cell_type": "markdown",
   "metadata": {},
   "source": [
    "### Separate data and train"
   ]
  },
  {
   "cell_type": "code",
   "execution_count": null,
   "metadata": {},
   "outputs": [],
   "source": [
    "num_of_comp = opt_num_components   # The number of PCs we will use for PLS\n",
    "loo = LeaveOneOut()\n",
    "\n",
    "pls = PLSRegression(n_components=(num_of_comp))\n",
    "\n",
    "Y_pred = [] # Stores predictions on the test set based on the \n",
    "            # trained model \n",
    "Y_test = [] # Stores the true labels. This list is in the same \n",
    "            # order as Y_pred so we know the order in which we\n",
    "            # should compare\n",
    "\n",
    "# Partition into training and testing sets, taking care to normalize \n",
    "# only after separating the data to avoid leakage\n",
    "for train_index, test_index in loo.split(X, Y):\n",
    "    # Normalize X data\n",
    "    pls.fit_transform(X[train_index], Y[train_index])\n",
    "    pls.transform(X[test_index])\n",
    "    \n",
    "    # Predict\n",
    "    new_y_pred = pls.predict(X[test_index])\n",
    "    \n",
    "    # Store predictions and test order\n",
    "    Y_pred.append(np.squeeze(new_y_pred))\n",
    "    Y_test.append((Y[test_index]))"
   ]
  },
  {
   "cell_type": "markdown",
   "metadata": {},
   "source": [
    "### Apply thresholds and build ROC curve"
   ]
  },
  {
   "cell_type": "code",
   "execution_count": null,
   "metadata": {},
   "outputs": [],
   "source": [
    "def classify_and_eval_preds(thresh, num_inputs, Y_raw_preds):\n",
    "    '''Classify predictions based on the threshold'''\n",
    "    Y_class_preds = []\n",
    "    for i in range(num_inputs):\n",
    "        if Y_raw_preds[i] >= thresh:\n",
    "            Y_class_preds.append(1)\n",
    "        else:\n",
    "            Y_class_preds.append(0)\n",
    "    return np.squeeze(np.array(Y_class_preds))"
   ]
  },
  {
   "cell_type": "code",
   "execution_count": null,
   "metadata": {},
   "outputs": [],
   "source": [
    "# Threshold our results to classify our data into two categories: \n",
    "# (0) mes and (1) pro. Then evaluate the prediction error for our \n",
    "# model. We will do this for a range of threshold values from -1 to 1\n",
    "# and plot the resulting ROC curve\n",
    "num_observations = X.shape[0] \n",
    "num_mes_labels = num_pro_labels = num_observations // 2 # We know that \n",
    "                                                        # there are equal \n",
    "                                                        # inputs of \n",
    "                                                        # mesenchymal and \n",
    "                                                        # proneural\n",
    "thresh_ranges = np.linspace(-2, 2, 100) # Apply a threshold range from -1 to \n",
    "                                        # 1 because that is the range for the \n",
    "                                        # zscored y labels\n",
    "mes_tpr_thresh_range = []   # Mesenchymal true positive rates  \n",
    "mes_fpr_thresh_range = []   # Mesenchymal false positive rates\n",
    "pro_tpr_thresh_range = []   # Proneural true positive rates\n",
    "pro_fpr_thresh_range = []   # Proneural false positive rates\n",
    "                            \n",
    "for t in thresh_ranges:\n",
    "    Y_class_pred = []   # Y_pred converted to classes 0 and 1\n",
    "    Y_class_test = []   # Stores the true labels. This list is in the same \n",
    "                        # order as Y_class_pred so we know the order in which \n",
    "                        # we should compare\n",
    "            \n",
    "    # For each observation, apply threshold and classify\n",
    "    Y_class_pred = classify_and_eval_preds(t, num_observations, Y_pred)\n",
    "\n",
    "    # Quantify correct predictions made by our model and compute true/false \n",
    "    # positive rates for the ROC curve. \n",
    "    mes_true_pos = 0\n",
    "    mes_false_pos = 0\n",
    "    pro_false_pos = 0\n",
    "    pro_true_pos = 0\n",
    "    \n",
    "    for i in range(num_observations):\n",
    "        if (Y_class_pred[i] == Y_test[i]):\n",
    "            if Y_class_pred[i] == 0:\n",
    "                mes_true_pos += 1\n",
    "            else:\n",
    "                pro_true_pos += 1\n",
    "        else: \n",
    "            if Y_class_pred[i] == 0:\n",
    "                mes_false_pos += 1\n",
    "            else:\n",
    "                pro_false_pos += 1\n",
    "        \n",
    "    mes_tpr = mes_true_pos / (num_mes_labels)\n",
    "    mes_fpr = mes_false_pos / (num_pro_labels)\n",
    "    pro_tpr = pro_true_pos / (num_pro_labels)\n",
    "    pro_fpr = pro_false_pos / (num_mes_labels)\n",
    "\n",
    "    mes_tpr_thresh_range.append(mes_tpr)\n",
    "    mes_fpr_thresh_range.append(mes_fpr)\n",
    "    pro_tpr_thresh_range.append(pro_tpr)\n",
    "    pro_fpr_thresh_range.append(pro_fpr)\n",
    "\n",
    "    if (LOG_FLAG):\n",
    "        print(\"LOO Cross Validation Results [128 CASE]:\")\n",
    "        print(\"mes cells correctly predicted: \", mes_correct)\n",
    "        print(\"mes cells incorrecly predicted: \", mes_false_pos)\n",
    "        print(\"pro cells correctly predicted: \", pro_correct)\n",
    "        print(\"pro cells incorrectly predicted: \", pro_false_pos)\n",
    "\n",
    "# Plot data\n",
    "plt.figure(figsize =(7, 7), dpi=100)\n",
    "plt.title(\"Proneural ROC {}x{}\"\n",
    "          .format(IMAGE_DIM, IMAGE_DIM))\n",
    "plt.plot([0,1], [0,1], label=\"Random\")\n",
    "plt.plot(pro_fpr_thresh_range, pro_tpr_thresh_range, label=\"Model\")\n",
    "plt.xlabel(\"False Positive Rate\")\n",
    "plt.ylabel(\"True Positive Rate\")\n",
    "plt.legend()\n",
    "plt.show()\n",
    "\n",
    "# Compute AUC\n",
    "from sklearn.metrics import auc\n",
    "model_auc = auc(pro_fpr_thresh_range, pro_tpr_thresh_range)\n",
    "print(\"AUC: {}\".format(model_auc))"
   ]
  },
  {
   "cell_type": "markdown",
   "metadata": {},
   "source": [
    "### Compute ROC and AUC for 8-fold crossvalidation\n",
    "\n",
    "We use the data from what was computed for the optimal run in the above."
   ]
  },
  {
   "cell_type": "code",
   "execution_count": null,
   "metadata": {},
   "outputs": [],
   "source": [
    "from sklearn.metrics import auc"
   ]
  },
  {
   "cell_type": "code",
   "execution_count": null,
   "metadata": {},
   "outputs": [],
   "source": [
    "num_mes_labels = num_pro_labels = num_observations // 2 # We know that \n",
    "                                                        # there are equal \n",
    "                                                        # inputs of \n",
    "                                                        # mesenchymal and \n",
    "                                                        # proneural\n",
    "        \n",
    "thresh_ranges = np.linspace(-2, 2, 100) # Apply a threshold range from -1 to \n",
    "                                        # 1 because that is the range for the \n",
    "                                        # zscored y labels\n",
    "mes_tpr_thresh_range = []   # Mesenchymal true positive rates  \n",
    "mes_fpr_thresh_range = []   # Mesenchymal false positive rates\n",
    "pro_tpr_thresh_range = []   # Proneural true positive rates\n",
    "pro_fpr_thresh_range = []   # Proneural false positive rates\n",
    "                            \n",
    "for t in thresh_ranges:\n",
    "    Y_class_pred = []   # Y_pred converted to classes 0 and 1\n",
    "    \n",
    "    # For each observation, apply threshold and classify\n",
    "    Y_class_pred = classify_and_eval_preds(t, num_observations, opt_Y_pred)\n",
    "\n",
    "    # Quantify correct predictions made by our model and compute true/false \n",
    "    # positive rates for the ROC curve. \n",
    "    mes_true_pos = 0\n",
    "    mes_false_pos = 0\n",
    "    pro_false_pos = 0\n",
    "    pro_true_pos = 0\n",
    "    \n",
    "    for i in range(num_observations):\n",
    "        if (Y_class_pred[i] == opt_Y_test[i]):\n",
    "            if Y_class_pred[i] == 0:\n",
    "                mes_true_pos += 1\n",
    "            else:\n",
    "                pro_true_pos += 1\n",
    "        else: \n",
    "            if Y_class_pred[i] == 0:\n",
    "                mes_false_pos += 1\n",
    "            else:\n",
    "                pro_false_pos += 1\n",
    "        \n",
    "    mes_tpr = mes_true_pos / (num_mes_labels)\n",
    "    mes_fpr = mes_false_pos / (num_pro_labels)\n",
    "    pro_tpr = pro_true_pos / (num_pro_labels)\n",
    "    pro_fpr = pro_false_pos / (num_mes_labels)\n",
    "\n",
    "    mes_tpr_thresh_range.append(mes_tpr)\n",
    "    mes_fpr_thresh_range.append(mes_fpr)\n",
    "    pro_tpr_thresh_range.append(pro_tpr)\n",
    "    pro_fpr_thresh_range.append(pro_fpr)\n",
    "    \n",
    "    if (LOG_FLAG):\n",
    "        print(\"{}-Fold Crossvalidation Results [Thresh: {}]:\".format(group_size, t))\n",
    "        print(\"mes cells correctly predicted: \", mes_correct)\n",
    "        print(\"mes cells incorrecly predicted: \", mes_false_pos)\n",
    "        print(\"pro cells correctly predicted: \", pro_correct)\n",
    "        print(\"pro cells incorrectly predicted: \", pro_false_pos)\n",
    "        print(\"\\n\\n\")\n",
    "\n",
    "\n",
    "# Plot data\n",
    "plt.figure(figsize =(7, 7), dpi=100)\n",
    "plt.title(\"Proneural ROC {}x{}\"\n",
    "          .format(IMAGE_DIM, IMAGE_DIM))\n",
    "plt.plot([0,1], [0,1], linestyle='--', lw=2, label=\"Chance\")\n",
    "plt.plot(pro_fpr_thresh_range, pro_tpr_thresh_range, label=\"Model\")\n",
    "plt.xlabel(\"False Positive Rate\")\n",
    "plt.ylabel(\"True Positive Rate\")\n",
    "plt.legend()\n",
    "plt.show()\n",
    "\n",
    "# Compute AUC\n",
    "model_auc = auc(pro_fpr_thresh_range, pro_tpr_thresh_range)\n",
    "print(\"AUC: {}\".format(model_auc))\n",
    "        "
   ]
  },
  {
   "cell_type": "code",
   "execution_count": null,
   "metadata": {},
   "outputs": [],
   "source": []
  }
 ],
 "metadata": {
  "kernelspec": {
   "display_name": "Python 3",
   "language": "python",
   "name": "python3"
  },
  "language_info": {
   "codemirror_mode": {
    "name": "ipython",
    "version": 3
   },
   "file_extension": ".py",
   "mimetype": "text/x-python",
   "name": "python",
   "nbconvert_exporter": "python",
   "pygments_lexer": "ipython3",
   "version": "3.6.5"
  }
 },
 "nbformat": 4,
 "nbformat_minor": 2
}
