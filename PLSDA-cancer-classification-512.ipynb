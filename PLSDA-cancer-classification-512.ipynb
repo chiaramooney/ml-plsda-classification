{
 "cells": [
  {
   "cell_type": "markdown",
   "metadata": {},
   "source": [
    "# PLSDA Cancer Classification on GBM Cell Lines"
   ]
  },
  {
   "cell_type": "markdown",
   "metadata": {},
   "source": [
    "### Import data from csv"
   ]
  },
  {
   "cell_type": "code",
   "execution_count": 52,
   "metadata": {},
   "outputs": [],
   "source": [
    "import numpy as np\n",
    "import csv\n",
    "import time"
   ]
  },
  {
   "cell_type": "markdown",
   "metadata": {},
   "source": [
    "# PARSING DATA\n",
    "After performing preprocessing on our images, the input data for this program will be a '.csv' file. The following code parses the data in that file and stores it into two arrays. X will be the array that contains the pixel color values for all of the pixels in all 100 of our images. Y will be the array which lists the label (0) mes or (1) pro for each of the cell images. "
   ]
  },
  {
   "cell_type": "code",
   "execution_count": 73,
   "metadata": {},
   "outputs": [],
   "source": [
    "csv_filename = '/Users/chiara.mooney/Desktop/data.csv'\n",
    "# csv_filename = '/Users/Ryan/Dropbox/Sharing/project data/data.csv'\n",
    "# csv_filename = 'D:/Ryan/Dropbox/Sharing/project data/data.csv'\n",
    "\n",
    "data = []\n",
    "with open(csv_filename, 'r') as f:\n",
    "    reader = csv.reader(f)\n",
    "    for row in reader:\n",
    "        data.append(row[1:])\n",
    "        \n",
    "data = np.array(data)\n",
    "X = data[:, 0:-1]\n",
    "Y = data[:, -1]\n",
    "X = X.astype(int)\n",
    "Y = Y.astype(int)\n",
    "\n",
    "# normalize data\n",
    "x_zscore = scipy.stats.mstats.zscore(X, axis=0)\n",
    "Y_mean = np.mean(Y)\n",
    "Y_std = np.std(Y)\n",
    "y_zscore = scipy.stats.zscore(Y)"
   ]
  },
  {
   "cell_type": "code",
   "execution_count": 74,
   "metadata": {},
   "outputs": [
    {
     "name": "stdout",
     "output_type": "stream",
     "text": [
      "Inputs matrix size: (100, 262143)\n",
      "Outputs matrix size: (100,)\n",
      "\n",
      "\n",
      "\n",
      "Completed at: 1552161200.9483578\n"
     ]
    }
   ],
   "source": [
    "# Print data shape\n",
    "print(\"Inputs matrix size: {}\".format(X.shape))\n",
    "print(\"Outputs matrix size: {}\".format(Y.shape))\n",
    "print(\"\\n\\n\")\n",
    "\n",
    "print(\"Completed at: {}\".format(time.time()))"
   ]
  },
  {
   "cell_type": "markdown",
   "metadata": {},
   "source": [
    "# EXAMINING DATA\n",
    "Let's take a look at the data we are working with. Based on our earlier results we have chosen to use 2 PCs. Let's build our scores and loadings plot so we can better examine our data set in connection to these principle components. "
   ]
  },
  {
   "cell_type": "code",
   "execution_count": 75,
   "metadata": {},
   "outputs": [
    {
     "data": {
      "text/plain": [
       "PLSRegression(copy=True, max_iter=500, n_components=9, scale=True, tol=1e-06)"
      ]
     },
     "execution_count": 75,
     "metadata": {},
     "output_type": "execute_result"
    }
   ],
   "source": [
    "plsda = PLSRegression(n_components=9)\n",
    "plsda.fit(x_zscore,y_zscore)"
   ]
  },
  {
   "cell_type": "code",
   "execution_count": 77,
   "metadata": {},
   "outputs": [
    {
     "data": {
      "image/png": "[encoded data removed]",
      "text/plain": [
       "<Figure size 504x504 with 1 Axes>"
      ]
     },
     "metadata": {
      "needs_background": "light"
     },
     "output_type": "display_data"
    }
   ],
   "source": [
    "scores_PC1 = plsda.x_scores_[:, 0]\n",
    "scores_PC2 = plsda.x_scores_[:, 1]\n",
    "\n",
    "plt.figure(figsize =(7,7))\n",
    "plt.title(\"Scores Plot 512 x 512\")\n",
    "plt.scatter(scores_PC1[0:50], scores_PC2[0:50], c='tab:orange',marker='D', label=\"mes\")\n",
    "plt.scatter(scores_PC1[50:], scores_PC2[50:], c='tab:cyan',marker='D', label=\"pro\")\n",
    "plt.xlabel(\"PC1\")\n",
    "plt.ylabel(\"PC2\")\n",
    "plt.legend()\n",
    "plt.show()"
   ]
  },
  {
   "cell_type": "code",
   "execution_count": 57,
   "metadata": {},
   "outputs": [],
   "source": [
    "# x_loadings_PC1 = plsda.x_loadings_[:, 0]\n",
    "# x_loadings_PC2 = plsda.x_loadings_[:, 1] \n",
    "\n",
    "# y_loadings_PC1 = plsda.y_loadings_[:, 0]\n",
    "# y_loadings_PC2 = plsda.y_loadings_[:, 1] \n",
    "\n",
    "# y_weights_PC1  = plsda.y_weights_[:,0]\n",
    "# y_weights_PC2  = plsda.y_weights_[:,1]\n",
    "\n",
    "# # we are looking to plot w*c\n",
    "# # first lets find w*, where w* = w(p'w)^-1\n",
    "\n",
    "# wStar =(np.matmul(plsda.x_weights_, np.linalg.inv(np.matmul(plsda.x_loadings_.T, plsda.x_weights_))))\n",
    "\n",
    "# x_wStar_PC1  = wStar[:,0]\n",
    "# x_wStar_PC2  = wStar[:,1]\n",
    "\n",
    "# plt.figure(figsize=(4, 4), dpi=100)\n",
    "\n",
    "# # need to scale \n",
    "# plt.scatter(0.15*y_loadings_PC1,0.15*y_loadings_PC2, c='b', label = \"Response\") \n",
    "# plt.scatter(np.multiply(x_wStar_PC1, y_weights_PC1), np.multiply(x_wStar_PC2, y_weights_PC2), c='y', label=\"Signals\")\n",
    "# plt.legend()\n",
    "# plt.title(\"PC1 vs PC2 -- Loadings Plot\")\n",
    "# plt.xlabel(\"PC1\")\n",
    "# plt.ylabel(\"PC2\")"
   ]
  },
  {
   "cell_type": "markdown",
   "metadata": {},
   "source": [
    "# PERFORMING PLSDA\n",
    "Now that we have processed our csv file and correctly stored our oberservations into an array, we will begin to construct our model using PLSDA. After doing some research online we discovered a method for implementing PLSDA via PLSR. We will build a model using PLSR, where our yobs is an array of 0s (mesanchymal) or 1s (proneural). PLSR will make predictions which will result in continous values from 0 to 1. However, we need our data to be discrete so that we can correctly classify each image into a cell type. Thus, following PLSR we will need to threshold our ypred."
   ]
  },
  {
   "cell_type": "markdown",
   "metadata": {},
   "source": [
    "#### Calculation of R2X and R2Y\n",
    "This will be used to determin how many primary components to use"
   ]
  },
  {
   "cell_type": "code",
   "execution_count": 78,
   "metadata": {
    "scrolled": true
   },
   "outputs": [
    {
     "name": "stdout",
     "output_type": "stream",
     "text": [
      "92.81525762243389 % of variation for y accounted for using 2 PCs.\n"
     ]
    },
    {
     "data": {
      "image/png": "[encoded data removed]",
      "text/plain": [
       "<Figure size 432x288 with 1 Axes>"
      ]
     },
     "metadata": {
      "needs_background": "light"
     },
     "output_type": "display_data"
    },
    {
     "name": "stdout",
     "output_type": "stream",
     "text": [
      "Completed at: 1552161369.2739499\n"
     ]
    }
   ],
   "source": [
    "import scipy as sp, numpy as np\n",
    "import scipy.io as sio\n",
    "from sklearn.preprocessing import scale, StandardScaler\n",
    "from sklearn.cross_decomposition import PLSRegression\n",
    "from sklearn.model_selection import LeaveOneGroupOut, LeaveOneOut\n",
    "from sklearn.metrics import r2_score\n",
    "import matplotlib.pyplot as plt\n",
    "\n",
    "import scipy\n",
    "from scipy import stats\n",
    "\n",
    "\n",
    "\n",
    "X_R2_data = []\n",
    "Y_R2_data = []\n",
    "\n",
    "def make_params_R2 (scores, loadings, observed):\n",
    "    loadings_transpose = np.ndarray.transpose(loadings)\n",
    "    x_model = np.squeeze(np.dot(scores, loadings_transpose))\n",
    "    # when is squeeze necessary\n",
    "    return (R2(x_model, observed))\n",
    "\n",
    "def R2 (x_model, observed):\n",
    "    sum_sq_err = np.sum(np.square(np.squeeze(np.subtract(x_model, observed))))\n",
    "    sq_obs = np.sum(np.square(observed))\n",
    "    return 1 - (sum_sq_err/sq_obs)\n",
    "\n",
    "max_pcs = 20\n",
    "reach_90_x = False\n",
    "reach_90_y = False\n",
    "\n",
    "for i in range(max_pcs):\n",
    "    pls= PLSRegression(n_components=(i+1))\n",
    "    pls.fit(x_zscore,y_zscore)\n",
    "    new_R2_X = make_params_R2(pls.x_scores_, pls.x_loadings_, x_zscore)\n",
    "    X_R2_data.append(new_R2_X)\n",
    "    if (new_R2_X > 0.9) and not reach_90_x:\n",
    "        print((100*new_R2_X), \"% of variation for x accounted for using\",(i+1), \"PCs.\")\n",
    "        reach_90_x = True\n",
    "    \n",
    "    Y_model = np.squeeze(pls.predict(x_zscore))\n",
    "    new_R2_Y = R2(Y_model, y_zscore)\n",
    "    Y_R2_data.append(new_R2_Y)\n",
    "    if (new_R2_Y > 0.9) and not reach_90_y:\n",
    "        print((100*new_R2_Y), \"% of variation for y accounted for using\", (i+1), \"PCs.\")\n",
    "        reach_90_y = True\n",
    "\n",
    "#plt.figure(figsize =(1300,80), dpi=100)\n",
    "plt.title(\"Number of PCs vs. Variance Accounted For\")\n",
    "plt.scatter(np.arange(1,max_pcs+1), X_R2_data, label=\"x-variance\")\n",
    "plt.scatter(np.arange(1,max_pcs+1), Y_R2_data, label=\"y-variance\")\n",
    "plt.xlabel(\"Number of PCs\")\n",
    "plt.ylabel(\"Variance Accounted For\")\n",
    "plt.legend()\n",
    "plt.show()\n",
    "\n",
    "print(\"Completed at: {}\".format(time.time()))"
   ]
  },
  {
   "cell_type": "markdown",
   "metadata": {},
   "source": [
    "#### Leave One Out Cross Validation\n",
    "Perform LOO cross validation on our model to evaluate the predicted error of our model"
   ]
  },
  {
   "cell_type": "code",
   "execution_count": 86,
   "metadata": {},
   "outputs": [
    {
     "name": "stdout",
     "output_type": "stream",
     "text": [
      "Completed at: 1552162220.2221\n"
     ]
    }
   ],
   "source": [
    "# build model and run LOO cross validation\n",
    "num_of_comp = 2\n",
    "loo = LeaveOneOut()\n",
    "\n",
    "Y_raw_loo = []\n",
    "Y_test_loo = []\n",
    "pls_loo = PLSRegression(n_components=(num_of_comp))\n",
    "\n",
    "for train_index, test_index in loo.split(X, Y):\n",
    "    \n",
    "    pls_loo.fit_transform(X[train_index], Y[train_index])\n",
    "    pls_loo.transform(X[test_index])\n",
    "    new_y_pred = pls_loo.predict(X[test_index])\n",
    "    Y_raw_loo.append(np.squeeze(new_y_pred))\n",
    "    Y_test_loo.append((Y[test_index]))\n",
    "    \n",
    "print(\"Completed at: {}\".format(time.time()))"
   ]
  },
  {
   "cell_type": "code",
   "execution_count": 87,
   "metadata": {},
   "outputs": [
    {
     "name": "stdout",
     "output_type": "stream",
     "text": [
      "LOO Cross Validation Results [512 CASE]:\n",
      "mes cells correctly predicted:  44\n",
      "mes cells incorrecly predicted:  7\n",
      "pro cells correctly predicted:  43\n",
      "pro cells incorrectly predicted:  6\n"
     ]
    }
   ],
   "source": [
    "# threshold our results to parse our data into two categories: (0) mes and (1) pro\n",
    "Y_predict_loo = []\n",
    "for i in range(100):\n",
    "    if Y_raw_loo[i] >= 0.45:\n",
    "        Y_predict_loo.append(np.squeeze(1))\n",
    "    else:\n",
    "        Y_predict_loo.append(np.squeeze(0))\n",
    "    \n",
    "np.squeeze(Y_predict_loo)\n",
    "np.squeeze(Y_test_loo)\n",
    "\n",
    "# count number of correct predictions made by our model\n",
    "mes_correct = 0\n",
    "mes_false_pos = 0\n",
    "pro_false_pos = 0\n",
    "pro_correct = 0\n",
    "for i in range(100):\n",
    "    if (Y_predict_loo[i] == Y_test_loo[i]):\n",
    "        if Y_predict_loo[i] == 0:\n",
    "            mes_correct += 1\n",
    "        else:\n",
    "            pro_correct += 1\n",
    "    elif (Y_predict_loo[i] != Y_test_loo[i]):\n",
    "        if Y_predict_loo[i] == 0:\n",
    "            mes_false_pos += 1\n",
    "        else:\n",
    "            pro_false_pos += 1\n",
    "print(\"LOO Cross Validation Results [512 CASE]:\")\n",
    "print(\"mes cells correctly predicted: \", mes_correct)\n",
    "print(\"mes cells incorrecly predicted: \", mes_false_pos)\n",
    "print(\"pro cells correctly predicted: \", pro_correct)\n",
    "print(\"pro cells incorrectly predicted: \", pro_false_pos)"
   ]
  },
  {
   "cell_type": "markdown",
   "metadata": {},
   "source": [
    "#### K-Fold Crossvalidation\n",
    "Run K-fold with 5-10 observations held out to compare with performance of LOOCV"
   ]
  },
  {
   "cell_type": "code",
   "execution_count": 88,
   "metadata": {},
   "outputs": [],
   "source": [
    "num_of_comp = 2\n",
    "logo = LeaveOneGroupOut()\n",
    "\n",
    "group_size = 8\n",
    "groups = []\n",
    "for i in range(X.shape[0]):\n",
    "    groups.append(i % group_size)\n",
    "groups = np.array(groups)\n",
    "\n",
    "X = np.array(X)\n",
    "Y = np.array(Y)\n",
    "X = X.astype(float)\n",
    "\n",
    "Y_raw_preds = []\n",
    "Y_test_logo = []\n",
    "pls_logo = PLSRegression(n_components=(num_of_comp))\n",
    "\n",
    "for train_index, test_index in logo.split(X, groups=groups):\n",
    "    X_train = X[train_index]\n",
    "    Y_train = Y[train_index]\n",
    "    \n",
    "    # Scale\n",
    "    scaler = StandardScaler()\n",
    "    X_train_zs = scaler.fit_transform(X_train)\n",
    "    X_test_zs = scaler.transform(X[test_index])\n",
    "    \n",
    "    # Fit model\n",
    "    pls_logo.fit(X_train_zs, Y_train)\n",
    "    Y_test_pred = pls_logo.predict(X_test_zs)\n",
    "    Y_raw_preds.append(np.squeeze(np.array(Y_test_pred)))\n",
    "    Y_test_logo.append(Y[test_index])\n",
    "    \n",
    "    # Log\n",
    "    # print(np.squeeze(np.array(Y_test_pred)))\n",
    "    # print(Y[test_index])\n",
    "\n",
    "\n"
   ]
  },
  {
   "cell_type": "code",
   "execution_count": 89,
   "metadata": {},
   "outputs": [
    {
     "name": "stdout",
     "output_type": "stream",
     "text": [
      "(100,)\n",
      "(100,)\n",
      "Completed at: 1552162239.877781\n"
     ]
    }
   ],
   "source": [
    "# Manually flatten\n",
    "Y_test_logo_flat = []\n",
    "for i in range(len(Y_test_logo)):\n",
    "    for j in range(len(Y_test_logo[i])):\n",
    "        Y_test_logo_flat.append(Y_test_logo[i][j])\n",
    "        \n",
    "Y_raw_preds_flat = []\n",
    "for i in range(len(Y_raw_preds)):\n",
    "    for j in range(len(Y_raw_preds[i])):\n",
    "        Y_raw_preds_flat.append(Y_raw_preds[i][j])\n",
    "        \n",
    "Y_test_logo_flat = np.array(Y_test_logo_flat)\n",
    "Y_raw_preds_flat = np.array(Y_raw_preds_flat)\n",
    "\n",
    "print(Y_raw_preds_flat.shape)\n",
    "print(Y_test_logo_flat.shape)\n",
    "print(\"Completed at: {}\".format(time.time()))"
   ]
  },
  {
   "cell_type": "code",
   "execution_count": 90,
   "metadata": {},
   "outputs": [
    {
     "name": "stdout",
     "output_type": "stream",
     "text": [
      "[0, 0, 0, 0, 0, 0, 0, 1, 1, 1, 1, 1, 1, 0, 0, 0, 0, 1, 0, 1, 1, 0, 1, 1, 0, 1, 0, 0, 0, 1, 0, 0, 1, 1, 1, 1, 1, 1, 0, 0, 0, 0, 0, 0, 0, 1, 1, 1, 1, 1, 1, 1, 1, 0, 0, 0, 0, 0, 1, 1, 1, 1, 1, 1, 0, 0, 0, 0, 0, 1, 1, 1, 1, 1, 1, 1, 0, 0, 0, 0, 0, 0, 1, 1, 1, 0, 1, 1, 1, 0, 0, 1, 0, 0, 1, 1, 1, 1, 1, 1]\n",
      "[0 0 0 0 0 0 0 1 1 1 1 1 1 0 0 0 0 0 0 0 1 1 1 1 1 1 0 0 0 0 0 0 1 1 1 1 1\n",
      " 1 1 0 0 0 0 0 0 1 1 1 1 1 1 1 0 0 0 0 0 0 1 1 1 1 1 1 0 0 0 0 0 0 1 1 1 1\n",
      " 1 1 0 0 0 0 0 0 1 1 1 1 1 1 0 0 0 0 0 0 1 1 1 1 1 1]\n",
      "8-Fold Crossvalidation Results [512 CASE]:\n",
      "mes cells correctly predicted:  44\n",
      "mes cells incorrecly predicted:  7\n",
      "pro cells correctly predicted:  43\n",
      "pro cells incorrectly predicted:  6\n",
      "Completed at: 1552162239.8969312\n"
     ]
    }
   ],
   "source": [
    "Y_class_preds = []\n",
    "for i in range(100):\n",
    "    if Y_raw_preds_flat[i] >= 0.45:\n",
    "        Y_class_preds.append(1)\n",
    "    else:\n",
    "        Y_class_preds.append(0)\n",
    "\n",
    "print(Y_class_preds)   \n",
    "print(Y_test_logo_flat)   \n",
    "\n",
    "mes_correct = 0\n",
    "mes_false_pos = 0\n",
    "pro_false_pos = 0\n",
    "pro_correct = 0\n",
    "for i in range(100):\n",
    "    if (Y_predict_loo[i] == Y_test_loo[i]):\n",
    "        if Y_predict_loo[i] == 0:\n",
    "            mes_correct += 1\n",
    "        else:\n",
    "            pro_correct += 1\n",
    "    elif (Y_predict_loo[i] != Y_test_loo[i]):\n",
    "        if Y_predict_loo[i] == 0:\n",
    "            mes_false_pos += 1\n",
    "        else:\n",
    "            pro_false_pos += 1\n",
    "\n",
    "\n",
    "\n",
    "print(\"{}-Fold Crossvalidation Results [512 CASE]:\".format(group_size))\n",
    "print(\"mes cells correctly predicted: \", mes_correct)\n",
    "print(\"mes cells incorrecly predicted: \", mes_false_pos)\n",
    "print(\"pro cells correctly predicted: \", pro_correct)\n",
    "print(\"pro cells incorrectly predicted: \", pro_false_pos)\n",
    "\n",
    "print(\"Completed at: {}\".format(time.time()))"
   ]
  },
  {
   "cell_type": "markdown",
   "metadata": {},
   "source": [
    "#### Random Model Control\n",
    "Build set of predictions made by the random choice of 0 or 1. Use the accuracy of this model to serve as a baseline for our PLSDA model. If our PLSDA model does better than random, we have a success."
   ]
  },
  {
   "cell_type": "code",
   "execution_count": 91,
   "metadata": {},
   "outputs": [
    {
     "name": "stdout",
     "output_type": "stream",
     "text": [
      "Random Prediction Results: \n",
      "mes cells correctly predicted:  0\n",
      "mes cells incorrecly predicted:  46\n",
      "pro cells correctly predicted:  25\n",
      "pro cells incorrectly predicted:  29\n"
     ]
    }
   ],
   "source": [
    "# build data set of random values from [0,1]\n",
    "Y_random = []\n",
    "for i in range(100):\n",
    "    Y_random.append(np.random.randint(0,2))\n",
    "Y_random = np.array(Y_random)\n",
    "\n",
    "mes_correct = 0\n",
    "mes_false_pos = 0\n",
    "pro_false_pos = 0\n",
    "pro_correct = 0\n",
    "\n",
    "# evaluate success of random prediction\n",
    "for i in range(100):\n",
    "    if (Y_random[i] == y_zscore[i]):\n",
    "        if Y_random[i] == 0:\n",
    "            mes_correct += 1\n",
    "        else:\n",
    "            pro_correct += 1\n",
    "    elif (Y_random[i] != y_zscore[i]):\n",
    "        if Y_random[i] == 0:\n",
    "            mes_false_pos += 1\n",
    "        else:\n",
    "            pro_false_pos += 1\n",
    "\n",
    "print(\"Random Prediction Results: \")\n",
    "print(\"mes cells correctly predicted: \", mes_correct)\n",
    "print(\"mes cells incorrecly predicted: \", mes_false_pos)\n",
    "print(\"pro cells correctly predicted: \", pro_correct)\n",
    "print(\"pro cells incorrectly predicted: \", pro_false_pos)\n"
   ]
  }
 ],
 "metadata": {
  "kernelspec": {
   "display_name": "Python 3",
   "language": "python",
   "name": "python3"
  },
  "language_info": {
   "codemirror_mode": {
    "name": "ipython",
    "version": 3
   },
   "file_extension": ".py",
   "mimetype": "text/x-python",
   "name": "python",
   "nbconvert_exporter": "python",
   "pygments_lexer": "ipython3",
   "version": "3.7.0"
  }
 },
 "nbformat": 4,
 "nbformat_minor": 2
}
