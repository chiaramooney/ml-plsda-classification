{
 "cells": [
  {
   "cell_type": "markdown",
   "metadata": {},
   "source": [
    "# PLSDA Cancer Classification on GBM Cell Lines"
   ]
  },
  {
   "cell_type": "markdown",
   "metadata": {},
   "source": [
    "### Import data from csv"
   ]
  },
  {
   "cell_type": "code",
   "execution_count": 9,
   "metadata": {},
   "outputs": [],
   "source": [
    "import numpy as np\n",
    "import csv\n",
    "import time"
   ]
  },
  {
   "cell_type": "code",
   "execution_count": 10,
   "metadata": {},
   "outputs": [],
   "source": [
    "# csv_filename = '/Users/chiara.mooney/Desktop/data.csv'\n",
    "# csv_filename = '/Users/Ryan/Dropbox/Sharing/project data/data.csv'\n",
    "csv_filename = 'D:/Ryan/Dropbox/Sharing/project data/data.csv'\n",
    "\n",
    "data = []\n",
    "with open(csv_filename, 'r') as f:\n",
    "    reader = csv.reader(f)\n",
    "    for row in reader:\n",
    "        data.append(row[1:])\n",
    "        \n",
    "data = np.array(data)\n",
    "X = data[:, 0:-1]\n",
    "Y = data[:, -1]\n",
    "X = X.astype(int)\n",
    "Y = Y.astype(int)"
   ]
  },
  {
   "cell_type": "code",
   "execution_count": 11,
   "metadata": {},
   "outputs": [
    {
     "name": "stdout",
     "output_type": "stream",
     "text": [
      "Inputs matrix size: (100, 262143)\n",
      "Outputs matrix size: (100,)\n",
      "\n",
      "\n",
      "\n",
      "Completed at: 1551774459.648747\n"
     ]
    }
   ],
   "source": [
    "# Print data shape\n",
    "print(\"Inputs matrix size: {}\".format(X.shape))\n",
    "print(\"Outputs matrix size: {}\".format(Y.shape))\n",
    "print(\"\\n\\n\")\n",
    "\n",
    "print(\"Completed at: {}\".format(time.time()))"
   ]
  },
  {
   "cell_type": "markdown",
   "metadata": {},
   "source": [
    "# PERFORMING PLSDA\n",
    "Now that we have processed our csv file and correctly stored our oberservations into an array, we will begin to construct our model using PLSDA. After doing some research online we discovered a method for implementing PLSDA via PLSR. We will build a model using PLSR, where our yobs is an array of 0s (mesanchymal) or 1s (proneural). PLSR will make predictions which will result in continous values from 0 to 1. However, we need our data to be discrete so that we can correctly classify each image into a cell type. Thus, following PLSR we will need to threshold our ypred."
   ]
  },
  {
   "cell_type": "code",
   "execution_count": 12,
   "metadata": {},
   "outputs": [
    {
     "name": "stdout",
     "output_type": "stream",
     "text": [
      "92.81525762243386 % of variation for y accounted for using 2 PCs.\n"
     ]
    },
    {
     "data": {
      "text/plain": [
       "<Figure size 640x480 with 1 Axes>"
      ]
     },
     "metadata": {},
     "output_type": "display_data"
    },
    {
     "name": "stdout",
     "output_type": "stream",
     "text": [
      "Completed at: 1551774584.8214424\n"
     ]
    }
   ],
   "source": [
    "import scipy as sp, numpy as np\n",
    "import scipy.io as sio\n",
    "from sklearn.preprocessing import scale, StandardScaler\n",
    "from sklearn.cross_decomposition import PLSRegression\n",
    "from sklearn.model_selection import LeaveOneGroupOut, LeaveOneOut\n",
    "from sklearn.metrics import r2_score\n",
    "import matplotlib.pyplot as plt\n",
    "\n",
    "import scipy\n",
    "from scipy import stats\n",
    "\n",
    "# calculation of R2X and R2Y to discover how many primary components to use\n",
    "\n",
    "x_zscore = scipy.stats.mstats.zscore(X, axis=0)\n",
    "Y_mean = np.mean(Y)\n",
    "Y_std = np.std(Y)\n",
    "y_zscore = scipy.stats.zscore(Y)\n",
    "\n",
    "X_R2_data = []\n",
    "Y_R2_data = []\n",
    "\n",
    "def make_params_R2 (scores, loadings, observed):\n",
    "    loadings_transpose = np.ndarray.transpose(loadings)\n",
    "    x_model = np.squeeze(np.dot(scores, loadings_transpose))\n",
    "    # when is squeeze necessary\n",
    "    return (R2(x_model, observed))\n",
    "\n",
    "def R2 (x_model, observed):\n",
    "    sum_sq_err = np.sum(np.square(np.squeeze(np.subtract(x_model, observed))))\n",
    "    sq_obs = np.sum(np.square(observed))\n",
    "    return 1 - (sum_sq_err/sq_obs)\n",
    "\n",
    "max_pcs = 20\n",
    "reach_90_x = False\n",
    "reach_90_y = False\n",
    "\n",
    "for i in range(max_pcs):\n",
    "    pls= PLSRegression(n_components=(i+1))\n",
    "    pls.fit(x_zscore,y_zscore)\n",
    "    new_R2_X = make_params_R2(pls.x_scores_, pls.x_loadings_, x_zscore)\n",
    "    X_R2_data.append(new_R2_X)\n",
    "    if (new_R2_X > 0.9) and not reach_90_x:\n",
    "        print((100*new_R2_X), \"% of variation for x accounted for using\",(i+1), \"PCs.\")\n",
    "        reach_90_x = True\n",
    "    \n",
    "    Y_model = np.squeeze(pls.predict(x_zscore))\n",
    "    new_R2_Y = R2(Y_model, y_zscore)\n",
    "    Y_R2_data.append(new_R2_Y)\n",
    "    if (new_R2_Y > 0.9) and not reach_90_y:\n",
    "        print((100*new_R2_Y), \"% of variation for y accounted for using\", (i+1), \"PCs.\")\n",
    "        reach_90_y = True\n",
    "\n",
    "#plt.figure(figsize =(1300,80), dpi=100)\n",
    "plt.title(\"Number of PCs vs. Variance Accounted For\")\n",
    "plt.scatter(np.arange(1,max_pcs+1), X_R2_data, label=\"x-variance\")\n",
    "plt.scatter(np.arange(1,max_pcs+1), Y_R2_data, label=\"y-variance\")\n",
    "plt.xlabel(\"Number of PCs\")\n",
    "plt.ylabel(\"Variance Accounted For\")\n",
    "plt.legend()\n",
    "plt.show()\n",
    "\n",
    "print(\"Completed at: {}\".format(time.time()))"
   ]
  },
  {
   "cell_type": "code",
   "execution_count": 13,
   "metadata": {},
   "outputs": [
    {
     "name": "stdout",
     "output_type": "stream",
     "text": [
      "Completed at: 1551774750.9994562\n"
     ]
    }
   ],
   "source": [
    "# Leave one out cross validation on our on our PLSDA model\n",
    "\n",
    "num_of_comp = 2\n",
    "loo = LeaveOneOut()\n",
    "\n",
    "\n",
    "Y_raw_loo = []\n",
    "Y_test_loo = []\n",
    "pls_loo = PLSRegression(n_components=(num_of_comp))\n",
    "\n",
    "for train_index, test_index in loo.split(X, Y):\n",
    "    \n",
    "    pls_loo.fit_transform(X[train_index], Y[train_index])\n",
    "    pls_loo.transform(X[test_index])\n",
    "    new_y_pred = pls_loo.predict(X[test_index])\n",
    "    Y_raw_loo.append(np.squeeze(new_y_pred))\n",
    "    Y_test_loo.append((Y[test_index]))\n",
    "    \n",
    "print(\"Completed at: {}\".format(time.time()))"
   ]
  },
  {
   "cell_type": "code",
   "execution_count": 14,
   "metadata": {},
   "outputs": [
    {
     "name": "stdout",
     "output_type": "stream",
     "text": [
      "mes cells correctly predicted:  44\n",
      "pro cells correctly predicted:  43\n"
     ]
    }
   ],
   "source": [
    "Y_predict_loo = []\n",
    "for i in range(100):\n",
    "    if Y_raw_loo[i] >= 0.45:\n",
    "        Y_predict_loo.append(np.squeeze(1))\n",
    "    else:\n",
    "        Y_predict_loo.append(np.squeeze(0))\n",
    "    \n",
    "np.squeeze(Y_predict_loo)\n",
    "np.squeeze(Y_test_loo)\n",
    "mes_correct = 0\n",
    "pro_correct = 0\n",
    "for i in range(100):\n",
    "    if (Y_predict_loo[i] == Y_test_loo[i]):\n",
    "        if Y_predict_loo[i] == 0:\n",
    "            mes_correct += 1\n",
    "        else:\n",
    "            pro_correct += 1\n",
    "\n",
    "print(\"mes cells correctly predicted: \", mes_correct)\n",
    "print(\"pro cells correctly predicted: \", pro_correct)"
   ]
  },
  {
   "cell_type": "code",
   "execution_count": 15,
   "metadata": {},
   "outputs": [
    {
     "data": {
      "image/png": "[encoded data removed]",
      "text/plain": [
       "<Figure size 432x288 with 1 Axes>"
      ]
     },
     "metadata": {
      "needs_background": "light"
     },
     "output_type": "display_data"
    },
    {
     "name": "stdout",
     "output_type": "stream",
     "text": [
      "0.4043384956947715\n"
     ]
    }
   ],
   "source": [
    "plt.scatter(Y_raw_loo, Y_test_loo)\n",
    "plt.show()\n",
    "print(np.mean(Y_raw_loo))"
   ]
  },
  {
   "cell_type": "markdown",
   "metadata": {},
   "source": [
    "#### K-Fold Crossvalidation\n",
    "Run K-fold with 5-10 observations held out to compare with performance of LOOCV"
   ]
  },
  {
   "cell_type": "code",
   "execution_count": 113,
   "metadata": {},
   "outputs": [],
   "source": [
    "num_of_comp = 2\n",
    "logo = LeaveOneGroupOut()\n",
    "\n",
    "group_size = 8\n",
    "groups = []\n",
    "for i in range(X.shape[0]):\n",
    "    groups.append(i % group_size)\n",
    "groups = np.array(groups)\n",
    "\n",
    "X = np.array(X)\n",
    "Y = np.array(Y)\n",
    "X = X.astype(float)\n",
    "\n",
    "Y_raw_preds = []\n",
    "Y_test_logo = []\n",
    "pls_logo = PLSRegression(n_components=(num_of_comp))\n",
    "\n",
    "for train_index, test_index in logo.split(X, groups=groups):\n",
    "    X_train = X[train_index]\n",
    "    Y_train = Y[train_index]\n",
    "    \n",
    "    # Scale\n",
    "    scaler = StandardScaler()\n",
    "    X_train_zs = scaler.fit_transform(X_train)\n",
    "    X_test_zs = scaler.transform(X[test_index])\n",
    "    \n",
    "    # Fit model\n",
    "    pls_logo.fit(X_train_zs, Y_train)\n",
    "    Y_test_pred = pls_logo.predict(X_test_zs)\n",
    "    Y_raw_preds.append(np.squeeze(np.array(Y_test_pred)))\n",
    "    Y_test_logo.append(Y[test_index])\n",
    "    \n",
    "    # Log\n",
    "    # print(np.squeeze(np.array(Y_test_pred)))\n",
    "    # print(Y[test_index])\n",
    "\n",
    "\n"
   ]
  },
  {
   "cell_type": "code",
   "execution_count": 114,
   "metadata": {},
   "outputs": [
    {
     "name": "stdout",
     "output_type": "stream",
     "text": [
      "(100,)\n",
      "(100,)\n",
      "Completed at: 1551808586.449536\n"
     ]
    }
   ],
   "source": [
    "# Manually flatten\n",
    "Y_test_logo_flat = []\n",
    "for i in range(len(Y_test_logo)):\n",
    "    for j in range(len(Y_test_logo[i])):\n",
    "        Y_test_logo_flat.append(Y_test_logo[i][j])\n",
    "        \n",
    "Y_raw_preds_flat = []\n",
    "for i in range(len(Y_raw_preds)):\n",
    "    for j in range(len(Y_raw_preds[i])):\n",
    "        Y_raw_preds_flat.append(Y_raw_preds[i][j])\n",
    "        \n",
    "Y_test_logo_flat = np.array(Y_test_logo_flat)\n",
    "Y_raw_preds_flat = np.array(Y_raw_preds_flat)\n",
    "\n",
    "print(Y_raw_preds_flat.shape)\n",
    "print(Y_test_logo_flat.shape)\n",
    "print(\"Completed at: {}\".format(time.time()))"
   ]
  },
  {
   "cell_type": "code",
   "execution_count": 115,
   "metadata": {},
   "outputs": [
    {
     "name": "stdout",
     "output_type": "stream",
     "text": [
      "[0, 0, 0, 0, 0, 0, 0, 1, 1, 1, 1, 1, 1, 0, 0, 0, 0, 1, 0, 1, 1, 0, 1, 1, 0, 1, 0, 0, 0, 1, 0, 0, 1, 1, 1, 1, 1, 1, 0, 0, 0, 0, 0, 0, 0, 1, 1, 1, 1, 1, 1, 1, 1, 0, 0, 0, 0, 0, 1, 1, 1, 1, 1, 1, 0, 0, 0, 0, 0, 1, 1, 1, 1, 1, 1, 1, 0, 0, 0, 0, 0, 0, 1, 1, 1, 0, 1, 1, 1, 0, 0, 1, 0, 0, 1, 1, 1, 1, 1, 1]\n",
      "[0 0 0 0 0 0 0 1 1 1 1 1 1 0 0 0 0 0 0 0 1 1 1 1 1 1 0 0 0 0 0 0 1 1 1 1 1\n",
      " 1 1 0 0 0 0 0 0 1 1 1 1 1 1 1 0 0 0 0 0 0 1 1 1 1 1 1 0 0 0 0 0 0 1 1 1 1\n",
      " 1 1 0 0 0 0 0 0 1 1 1 1 1 1 0 0 0 0 0 0 1 1 1 1 1 1]\n",
      "8-Fold Crossvalidation Results:\n",
      "mes cells correctly predicted:  43\n",
      "pro cells correctly predicted:  46\n",
      "Completed at: 1551808586.4829726\n"
     ]
    }
   ],
   "source": [
    "Y_class_preds = []\n",
    "for i in range(100):\n",
    "    if Y_raw_preds_flat[i] >= 0.45:\n",
    "        Y_class_preds.append(1)\n",
    "    else:\n",
    "        Y_class_preds.append(0)\n",
    "\n",
    "print(Y_class_preds)   \n",
    "print(Y_test_logo_flat)   \n",
    "\n",
    "mes_correct = 0\n",
    "pro_correct = 0\n",
    "for i in range(100):\n",
    "    if (Y_class_preds[i] == Y_test_logo_flat[i]):\n",
    "        if Y_class_preds[i] == 0:\n",
    "            mes_correct += 1\n",
    "        else:\n",
    "            pro_correct += 1\n",
    "\n",
    "print(\"{}-Fold Crossvalidation Results:\".format(group_size))\n",
    "print(\"mes cells correctly predicted: \", mes_correct)\n",
    "print(\"pro cells correctly predicted: \", pro_correct)\n",
    "\n",
    "print(\"Completed at: {}\".format(time.time()))"
   ]
  },
  {
   "cell_type": "code",
   "execution_count": null,
   "metadata": {},
   "outputs": [],
   "source": []
  }
 ],
 "metadata": {
  "kernelspec": {
   "display_name": "Python 3",
   "language": "python",
   "name": "python3"
  },
  "language_info": {
   "codemirror_mode": {
    "name": "ipython",
    "version": 3
   },
   "file_extension": ".py",
   "mimetype": "text/x-python",
   "name": "python",
   "nbconvert_exporter": "python",
   "pygments_lexer": "ipython3",
   "version": "3.6.5"
  }
 },
 "nbformat": 4,
 "nbformat_minor": 2
}
